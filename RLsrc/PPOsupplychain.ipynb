{
 "cells": [
  {
   "cell_type": "code",
   "execution_count": 11,
   "metadata": {},
   "outputs": [],
   "source": [
    "import os\n",
    "import glob\n",
    "import time\n",
    "from datetime import datetime\n",
    "\n",
    "import torch\n",
    "import numpy as np\n",
    "import pandas as pd\n",
    "\n",
    "from State import State\n",
    "from GenerateDemandMonthly import GenerateDemandMonthly\n",
    "\n",
    "from PPO import PPO"
   ]
  },
  {
   "cell_type": "code",
   "execution_count": 12,
   "metadata": {},
   "outputs": [
    {
     "data": {
      "image/png": "[encoded data removed]",
      "text/plain": [
       "<Figure size 600x600 with 1 Axes>"
      ]
     },
     "metadata": {},
     "output_type": "display_data"
    }
   ],
   "source": [
    "env = State()\n",
    "env.create_state([-1, 0, 1, 1, 2, 2])\n",
    "env.show_network()"
   ]
  },
  {
   "cell_type": "code",
   "execution_count": 13,
   "metadata": {},
   "outputs": [],
   "source": [
    "has_continuous_action_space = False # continuous action space; else discrete\n",
    "action_std = 0.6            # starting std for action distribution (Multivariate Normal)\n",
    "action_std_decay_rate = 0.03       # linearly decay action_std (action_std = action_std - action_std_decay_rate)\n",
    "min_action_std = 0.03               # minimum action_std (stop decay after action_std <= min_action_std)\n",
    "action_std_decay_freq = int(1e5)  # action_std decay frequency (in num timesteps\n",
    "eps_clip = 0.2          # clip parameter for PPO\n",
    "gamma = 0.99            # discount factor\n",
    "K_epochs = 20\n",
    "lr_actor = 0.00005      # learning rate for actor network\n",
    "lr_critic = 0.0001       # learning rate for critic network\n",
    "\n",
    "random_seed = 1234         # set random seed if required (0 = no random seed)\n",
    "\n",
    "state_dim = 6\n",
    "action_dim = 512"
   ]
  },
  {
   "cell_type": "code",
   "execution_count": 14,
   "metadata": {},
   "outputs": [
    {
     "data": {
      "text/plain": [
       "<All keys matched successfully>"
      ]
     },
     "execution_count": 14,
     "metadata": {},
     "output_type": "execute_result"
    }
   ],
   "source": [
    "torch.manual_seed(random_seed)\n",
    "np.random.seed(random_seed)\n",
    "\n",
    "ppo_agent = PPO(state_dim, action_dim, lr_actor, lr_critic, gamma, K_epochs, eps_clip, has_continuous_action_space, action_std)\n",
    "ppo_agent.policy_old.load_state_dict(torch.load(\"rlmodel.pt\"))\n",
    "ppo_agent.policy.load_state_dict(torch.load(\"rlmodel.pt\"))"
   ]
  },
  {
   "cell_type": "code",
   "execution_count": null,
   "metadata": {},
   "outputs": [],
   "source": [
    "#### Generate New Demand ####\n",
    "demand_generator = GenerateDemandMonthly()\n",
    "\n",
    "df = pd.read_csv(\"../src/TOTALSA.csv\")\n",
    "mean = df['TOTALSA'].mean()\n",
    "std = df['TOTALSA'].std()\n",
    "period = 108\n",
    "iterations = 100\n",
    "\n",
    "demand_matrix = np.reshape(demand_generator.simulate_normal_no_season(\\\n",
    "            periods = period * iterations, mean=mean, std=std),\\\n",
    "                (iterations, period))"
   ]
  },
  {
   "cell_type": "code",
   "execution_count": null,
   "metadata": {},
   "outputs": [],
   "source": [
    "reward_RL = []\n",
    "\n",
    "for demand_list in demand_matrix:\n",
    "    reward_total = 0\n",
    "    state = env.reset()\n",
    "    env.set_demand_list(demand_list)\n",
    "    done = False\n",
    "    reward_sub = 0\n",
    "    \n",
    "    while not done:\n",
    "        action = ppo_agent.select_action(state)\n",
    "        state, reward, done = env.step(action)\n",
    "        reward_sub += reward\n",
    "        if done:\n",
    "            break\n",
    "    reward_total += reward_sub\n",
    "    reward_RL.append(reward_total)\n",
    "        "
   ]
  },
  {
   "cell_type": "code",
   "execution_count": 15,
   "metadata": {},
   "outputs": [
    {
     "ename": "NameError",
     "evalue": "name 'demand_test' is not defined",
     "output_type": "error",
     "traceback": [
      "\u001b[1;31m---------------------------------------------------------------------------\u001b[0m",
      "\u001b[1;31mNameError\u001b[0m                                 Traceback (most recent call last)",
      "Cell \u001b[1;32mIn[15], line 2\u001b[0m\n\u001b[0;32m      1\u001b[0m reward_RL \u001b[39m=\u001b[39m []\n\u001b[1;32m----> 2\u001b[0m \u001b[39mfor\u001b[39;00m demand \u001b[39min\u001b[39;00m demand_test:\n\u001b[0;32m      3\u001b[0m     reward_total \u001b[39m=\u001b[39m \u001b[39m0\u001b[39m\n\u001b[0;32m      4\u001b[0m     \u001b[39mfor\u001b[39;00m i \u001b[39min\u001b[39;00m \u001b[39mrange\u001b[39m(\u001b[39m2\u001b[39m):\n",
      "\u001b[1;31mNameError\u001b[0m: name 'demand_test' is not defined"
     ]
    }
   ],
   "source": [
    "reward_RL = []\n",
    "for demand in demand_test:\n",
    "    reward_total = 0\n",
    "    for i in range(2):\n",
    "        env = MultiEchelonInvOptEnv(demand[i*2:i*2+2])\n",
    "        state = env.reset()\n",
    "        done = False\n",
    "        reward_sub = 0\n",
    "        while not done:\n",
    "            action = ppo_agent.select_action(state)\n",
    "            state, reward, done = env.step(action)\n",
    "            reward_sub += reward\n",
    "            if done:\n",
    "                break\n",
    "        reward_total += reward_sub\n",
    "    reward_RL.append(reward_total)"
   ]
  }
 ],
 "metadata": {
  "kernelspec": {
   "display_name": "Python 3",
   "language": "python",
   "name": "python3"
  },
  "language_info": {
   "codemirror_mode": {
    "name": "ipython",
    "version": 3
   },
   "file_extension": ".py",
   "mimetype": "text/x-python",
   "name": "python",
   "nbconvert_exporter": "python",
   "pygments_lexer": "ipython3",
   "version": "3.11.3"
  },
  "orig_nbformat": 4
 },
 "nbformat": 4,
 "nbformat_minor": 2
}
