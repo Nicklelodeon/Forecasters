{
 "cells": [
  {
   "attachments": {},
   "cell_type": "markdown",
   "metadata": {},
   "source": [
    "# 0. Install Dependencies"
   ]
  },
  {
   "cell_type": "code",
   "execution_count": 2,
   "metadata": {
    "collapsed": true
   },
   "outputs": [
    {
     "data": {
      "text/plain": [
       "' !pip install tensorflow\\n!pip install gym\\n!pip install keras\\n!pip install keras-rl2 '"
      ]
     },
     "execution_count": 2,
     "metadata": {},
     "output_type": "execute_result"
    }
   ],
   "source": [
    "\"\"\" !pip install tensorflow\n",
    "!pip install gym\n",
    "!pip install keras\n",
    "!pip install keras-rl2 \"\"\""
   ]
  },
  {
   "attachments": {},
   "cell_type": "markdown",
   "metadata": {},
   "source": [
    "source: https://github.com/nicknochnack/OpenAI-Reinforcement-Learning-with-Custom-Environment/blob/main/OpenAI%20Custom%20Environment%20Reinforcement%20Learning.ipynb"
   ]
  },
  {
   "attachments": {},
   "cell_type": "markdown",
   "metadata": {},
   "source": [
    "# 1. Test Random Environment with OpenAI Gym"
   ]
  },
  {
   "cell_type": "code",
   "execution_count": 52,
   "metadata": {},
   "outputs": [],
   "source": [
    "from gym import Env\n",
    "from gym.spaces import Discrete, Box\n",
    "import numpy as np\n",
    "import random"
   ]
  },
  {
   "cell_type": "code",
   "execution_count": 53,
   "metadata": {},
   "outputs": [],
   "source": [
    "class ShowerEnv(Env):\n",
    "    def __init__(self):\n",
    "        # Actions we can take, down, stay, up\n",
    "        self.action_space = Discrete(3)\n",
    "        # Temperature array\n",
    "        self.observation_space = Box(low=np.array([0]), high=np.array([100]))\n",
    "        # Set start temp\n",
    "        self.state = 38 + random.randint(-3,3)\n",
    "        # Set shower length\n",
    "        self.shower_length = 60\n",
    "        \n",
    "    def step(self, action):\n",
    "        # Apply action\n",
    "        # 0 -1 = -1 temperature\n",
    "        # 1 -1 = 0 \n",
    "        # 2 -1 = 1 temperature \n",
    "        self.state += action -1 \n",
    "        # Reduce shower length by 1 second\n",
    "        self.shower_length -= 1 \n",
    "        \n",
    "        # Calculate reward\n",
    "        if self.state >=37 and self.state <=39: \n",
    "            reward =1 \n",
    "        else: \n",
    "            reward = -1 \n",
    "        \n",
    "        # Check if shower is done\n",
    "        if self.shower_length <= 0: \n",
    "            done = True\n",
    "        else:\n",
    "            done = False\n",
    "        \n",
    "        # Apply temperature noise\n",
    "        self.state += random.randint(-1,1)\n",
    "        # Set placeholder for info\n",
    "        info = {}\n",
    "        \n",
    "        # Return step information\n",
    "        return self.state, reward, done, info\n",
    "\n",
    "    def render(self):\n",
    "        # Implement viz\n",
    "        pass\n",
    "    \n",
    "    def reset(self):\n",
    "        # Reset shower temperature\n",
    "        self.state = 38 + random.randint(-3,3)\n",
    "        # Reset shower time\n",
    "        self.shower_length = 60 \n",
    "        return self.state\n",
    "    "
   ]
  },
  {
   "cell_type": "code",
   "execution_count": 54,
   "metadata": {},
   "outputs": [
    {
     "name": "stderr",
     "output_type": "stream",
     "text": [
      "c:\\Users\\darry\\AppData\\Local\\Programs\\Python\\Python311\\Lib\\site-packages\\gym\\spaces\\box.py:127: UserWarning: \u001b[33mWARN: Box bound precision lowered by casting to float32\u001b[0m\n",
      "  logger.warn(f\"Box bound precision lowered by casting to {self.dtype}\")\n"
     ]
    }
   ],
   "source": [
    "env = ShowerEnv()"
   ]
  },
  {
   "cell_type": "code",
   "execution_count": 55,
   "metadata": {},
   "outputs": [
    {
     "data": {
      "text/plain": [
       "array([68.75255], dtype=float32)"
      ]
     },
     "execution_count": 55,
     "metadata": {},
     "output_type": "execute_result"
    }
   ],
   "source": [
    "env.observation_space.sample()"
   ]
  },
  {
   "cell_type": "code",
   "execution_count": 56,
   "metadata": {},
   "outputs": [
    {
     "name": "stdout",
     "output_type": "stream",
     "text": [
      "Episode:1 Score:-60\n",
      "Episode:2 Score:-46\n",
      "Episode:3 Score:-26\n",
      "Episode:4 Score:-30\n",
      "Episode:5 Score:-30\n",
      "Episode:6 Score:-34\n",
      "Episode:7 Score:-56\n",
      "Episode:8 Score:-60\n",
      "Episode:9 Score:-32\n",
      "Episode:10 Score:-44\n"
     ]
    }
   ],
   "source": [
    "episodes = 10\n",
    "for episode in range(1, episodes+1):\n",
    "    state = env.reset()\n",
    "    done = False\n",
    "    score = 0 \n",
    "    \n",
    "    while not done:\n",
    "        #env.render()\n",
    "        action = env.action_space.sample()\n",
    "        n_state, reward, done, info = env.step(action)\n",
    "        score+=reward\n",
    "    print('Episode:{} Score:{}'.format(episode, score))"
   ]
  },
  {
   "attachments": {},
   "cell_type": "markdown",
   "metadata": {},
   "source": [
    "# 2. Create a Deep Learning Model with Keras"
   ]
  },
  {
   "cell_type": "code",
   "execution_count": 57,
   "metadata": {},
   "outputs": [],
   "source": [
    "import numpy as np\n",
    "from tensorflow.keras.models import Sequential\n",
    "from tensorflow.keras.layers import Dense, Flatten\n",
    "from tensorflow.keras.optimizers import Adam"
   ]
  },
  {
   "cell_type": "code",
   "execution_count": 58,
   "metadata": {},
   "outputs": [],
   "source": [
    "states = env.observation_space.shape\n",
    "actions = env.action_space.n"
   ]
  },
  {
   "cell_type": "code",
   "execution_count": 59,
   "metadata": {},
   "outputs": [
    {
     "data": {
      "text/plain": [
       "3"
      ]
     },
     "execution_count": 59,
     "metadata": {},
     "output_type": "execute_result"
    }
   ],
   "source": [
    "actions"
   ]
  },
  {
   "cell_type": "code",
   "execution_count": 60,
   "metadata": {},
   "outputs": [],
   "source": [
    "def build_model(states, actions):\n",
    "    model = Sequential()    \n",
    "    model.add(Dense(24, activation='relu', input_shape=states))\n",
    "    model.add(Dense(24, activation='relu'))\n",
    "    model.add(Dense(actions, activation='linear'))\n",
    "    return model"
   ]
  },
  {
   "cell_type": "code",
   "execution_count": 61,
   "metadata": {},
   "outputs": [],
   "source": [
    "del model "
   ]
  },
  {
   "cell_type": "code",
   "execution_count": 62,
   "metadata": {},
   "outputs": [],
   "source": [
    "import tensorflow as tf"
   ]
  },
  {
   "cell_type": "code",
   "execution_count": 63,
   "metadata": {},
   "outputs": [],
   "source": [
    "\n",
    "from rl.agents import DQNAgent\n",
    "from rl.policy import BoltzmannQPolicy\n",
    "from rl.memory import SequentialMemory\n",
    "from tensorflow.keras.optimizers.legacy import Adam"
   ]
  },
  {
   "cell_type": "code",
   "execution_count": 64,
   "metadata": {},
   "outputs": [],
   "source": [
    "model = build_model(states, actions)"
   ]
  },
  {
   "cell_type": "code",
   "execution_count": 65,
   "metadata": {},
   "outputs": [
    {
     "name": "stdout",
     "output_type": "stream",
     "text": [
      "Model: \"sequential_4\"\n",
      "_________________________________________________________________\n",
      " Layer (type)                Output Shape              Param #   \n",
      "=================================================================\n",
      " dense_12 (Dense)            (None, 24)                48        \n",
      "                                                                 \n",
      " dense_13 (Dense)            (None, 24)                600       \n",
      "                                                                 \n",
      " dense_14 (Dense)            (None, 3)                 75        \n",
      "                                                                 \n",
      "=================================================================\n",
      "Total params: 723\n",
      "Trainable params: 723\n",
      "Non-trainable params: 0\n",
      "_________________________________________________________________\n"
     ]
    }
   ],
   "source": [
    "model.summary()"
   ]
  },
  {
   "attachments": {},
   "cell_type": "markdown",
   "metadata": {},
   "source": [
    "# 3. Build Agent with Keras-RL"
   ]
  },
  {
   "cell_type": "code",
   "execution_count": 66,
   "metadata": {},
   "outputs": [],
   "source": [
    "def build_agent(model, actions):\n",
    "    policy = BoltzmannQPolicy()\n",
    "    memory = SequentialMemory(limit=50000, window_length=1)\n",
    "    dqn = DQNAgent(model=model, memory=memory, policy=policy, \n",
    "                  nb_actions=actions, nb_steps_warmup=10, target_model_update=1e-2)\n",
    "    return dqn"
   ]
  },
  {
   "cell_type": "code",
   "execution_count": 67,
   "metadata": {},
   "outputs": [
    {
     "name": "stdout",
     "output_type": "stream",
     "text": [
      "Training for 50000 steps ...\n",
      "Interval 1 (0 steps performed)\n",
      "10000/10000 [==============================] - 345s 34ms/step - reward: -0.5782\n",
      "166 episodes - episode_reward: -34.819 [-60.000, 26.000] - loss: 1.085 - mae: 6.166 - mean_q: -8.389\n",
      "\n",
      "Interval 2 (10000 steps performed)\n",
      "10000/10000 [==============================] - 327s 33ms/step - reward: -0.5886\n",
      "167 episodes - episode_reward: -35.150 [-60.000, 32.000] - loss: 1.925 - mae: 10.080 - mean_q: -14.412\n",
      "\n",
      "Interval 3 (20000 steps performed)\n",
      "10000/10000 [==============================] - 494s 49ms/step - reward: -0.5790\n",
      "167 episodes - episode_reward: -34.778 [-60.000, 24.000] - loss: 2.648 - mae: 12.069 - mean_q: -17.389\n",
      "\n",
      "Interval 4 (30000 steps performed)\n",
      "10000/10000 [==============================] - 449s 45ms/step - reward: -0.6388\n",
      "166 episodes - episode_reward: -38.289 [-60.000, 24.000] - loss: 3.109 - mae: 13.029 - mean_q: -18.826\n",
      "\n",
      "Interval 5 (40000 steps performed)\n",
      "10000/10000 [==============================] - 414s 41ms/step - reward: -0.5970\n",
      "done, took 2029.557 seconds\n"
     ]
    },
    {
     "data": {
      "text/plain": [
       "<keras.callbacks.History at 0x210d969a810>"
      ]
     },
     "execution_count": 67,
     "metadata": {},
     "output_type": "execute_result"
    }
   ],
   "source": [
    "dqn = build_agent(model, actions)\n",
    "#dqn.compile(optimizer=Adam(learning_rate=1e-3), metrics=['mae'])\n",
    "dqn.compile(Adam(lr=1e-3), metrics=['mae'])\n",
    "dqn.fit(env, nb_steps=50000, visualize=False, verbose=1)"
   ]
  },
  {
   "cell_type": "code",
   "execution_count": 68,
   "metadata": {},
   "outputs": [
    {
     "name": "stdout",
     "output_type": "stream",
     "text": [
      "Testing for 100 episodes ...\n",
      "Episode 1: reward: 22.000, steps: 60\n",
      "Episode 2: reward: -56.000, steps: 60\n",
      "Episode 3: reward: -40.000, steps: 60\n",
      "Episode 4: reward: 26.000, steps: 60\n",
      "Episode 5: reward: -60.000, steps: 60\n",
      "Episode 6: reward: -46.000, steps: 60\n",
      "Episode 7: reward: -34.000, steps: 60\n",
      "Episode 8: reward: -60.000, steps: 60\n",
      "Episode 9: reward: -46.000, steps: 60\n",
      "Episode 10: reward: -60.000, steps: 60\n",
      "Episode 11: reward: -8.000, steps: 60\n",
      "Episode 12: reward: 24.000, steps: 60\n",
      "Episode 13: reward: -26.000, steps: 60\n",
      "Episode 14: reward: 10.000, steps: 60\n",
      "Episode 15: reward: -6.000, steps: 60\n",
      "Episode 16: reward: 32.000, steps: 60\n",
      "Episode 17: reward: -48.000, steps: 60\n",
      "Episode 18: reward: -60.000, steps: 60\n",
      "Episode 19: reward: -50.000, steps: 60\n",
      "Episode 20: reward: -36.000, steps: 60\n",
      "Episode 21: reward: 18.000, steps: 60\n",
      "Episode 22: reward: -58.000, steps: 60\n",
      "Episode 23: reward: -38.000, steps: 60\n",
      "Episode 24: reward: -40.000, steps: 60\n",
      "Episode 25: reward: -36.000, steps: 60\n",
      "Episode 26: reward: -60.000, steps: 60\n",
      "Episode 27: reward: -38.000, steps: 60\n",
      "Episode 28: reward: -18.000, steps: 60\n",
      "Episode 29: reward: -46.000, steps: 60\n",
      "Episode 30: reward: -38.000, steps: 60\n",
      "Episode 31: reward: -34.000, steps: 60\n",
      "Episode 32: reward: -14.000, steps: 60\n",
      "Episode 33: reward: -58.000, steps: 60\n",
      "Episode 34: reward: -28.000, steps: 60\n",
      "Episode 35: reward: -60.000, steps: 60\n",
      "Episode 36: reward: -54.000, steps: 60\n",
      "Episode 37: reward: 18.000, steps: 60\n",
      "Episode 38: reward: -22.000, steps: 60\n",
      "Episode 39: reward: -56.000, steps: 60\n",
      "Episode 40: reward: -2.000, steps: 60\n",
      "Episode 41: reward: 10.000, steps: 60\n",
      "Episode 42: reward: -10.000, steps: 60\n",
      "Episode 43: reward: -46.000, steps: 60\n",
      "Episode 44: reward: -40.000, steps: 60\n",
      "Episode 45: reward: -30.000, steps: 60\n",
      "Episode 46: reward: -34.000, steps: 60\n",
      "Episode 47: reward: -32.000, steps: 60\n",
      "Episode 48: reward: -54.000, steps: 60\n",
      "Episode 49: reward: -28.000, steps: 60\n",
      "Episode 50: reward: -6.000, steps: 60\n",
      "Episode 51: reward: -22.000, steps: 60\n",
      "Episode 52: reward: -46.000, steps: 60\n",
      "Episode 53: reward: -60.000, steps: 60\n",
      "Episode 54: reward: 28.000, steps: 60\n",
      "Episode 55: reward: 8.000, steps: 60\n",
      "Episode 56: reward: -34.000, steps: 60\n",
      "Episode 57: reward: -60.000, steps: 60\n",
      "Episode 58: reward: 0.000, steps: 60\n",
      "Episode 59: reward: -6.000, steps: 60\n",
      "Episode 60: reward: -28.000, steps: 60\n",
      "Episode 61: reward: -10.000, steps: 60\n",
      "Episode 62: reward: -50.000, steps: 60\n",
      "Episode 63: reward: -28.000, steps: 60\n",
      "Episode 64: reward: 16.000, steps: 60\n",
      "Episode 65: reward: -16.000, steps: 60\n",
      "Episode 66: reward: -60.000, steps: 60\n",
      "Episode 67: reward: -40.000, steps: 60\n",
      "Episode 68: reward: -38.000, steps: 60\n",
      "Episode 69: reward: -58.000, steps: 60\n",
      "Episode 70: reward: -58.000, steps: 60\n",
      "Episode 71: reward: -36.000, steps: 60\n",
      "Episode 72: reward: -56.000, steps: 60\n",
      "Episode 73: reward: -50.000, steps: 60\n",
      "Episode 74: reward: -8.000, steps: 60\n",
      "Episode 75: reward: -60.000, steps: 60\n",
      "Episode 76: reward: -20.000, steps: 60\n",
      "Episode 77: reward: -58.000, steps: 60\n",
      "Episode 78: reward: -60.000, steps: 60\n",
      "Episode 79: reward: -48.000, steps: 60\n",
      "Episode 80: reward: -20.000, steps: 60\n",
      "Episode 81: reward: -60.000, steps: 60\n",
      "Episode 82: reward: -54.000, steps: 60\n",
      "Episode 83: reward: -34.000, steps: 60\n",
      "Episode 84: reward: -60.000, steps: 60\n",
      "Episode 85: reward: -56.000, steps: 60\n",
      "Episode 86: reward: 2.000, steps: 60\n",
      "Episode 87: reward: -30.000, steps: 60\n",
      "Episode 88: reward: -56.000, steps: 60\n",
      "Episode 89: reward: -26.000, steps: 60\n",
      "Episode 90: reward: -48.000, steps: 60\n",
      "Episode 91: reward: -48.000, steps: 60\n",
      "Episode 92: reward: 0.000, steps: 60\n",
      "Episode 93: reward: -22.000, steps: 60\n",
      "Episode 94: reward: -32.000, steps: 60\n",
      "Episode 95: reward: 16.000, steps: 60\n",
      "Episode 96: reward: -58.000, steps: 60\n",
      "Episode 97: reward: 16.000, steps: 60\n",
      "Episode 98: reward: -4.000, steps: 60\n",
      "Episode 99: reward: -48.000, steps: 60\n",
      "Episode 100: reward: 14.000, steps: 60\n",
      "-30.22\n"
     ]
    }
   ],
   "source": [
    "scores = dqn.test(env, nb_episodes=100, visualize=False)\n",
    "print(np.mean(scores.history['episode_reward']))"
   ]
  },
  {
   "cell_type": "code",
   "execution_count": 69,
   "metadata": {},
   "outputs": [
    {
     "name": "stdout",
     "output_type": "stream",
     "text": [
      "Testing for 15 episodes ...\n"
     ]
    },
    {
     "ename": "TypeError",
     "evalue": "ShowerEnv.render() got an unexpected keyword argument 'mode'",
     "output_type": "error",
     "traceback": [
      "\u001b[1;31m---------------------------------------------------------------------------\u001b[0m",
      "\u001b[1;31mTypeError\u001b[0m                                 Traceback (most recent call last)",
      "Cell \u001b[1;32mIn[69], line 1\u001b[0m\n\u001b[1;32m----> 1\u001b[0m _ \u001b[39m=\u001b[39m dqn\u001b[39m.\u001b[39;49mtest(env, nb_episodes\u001b[39m=\u001b[39;49m\u001b[39m15\u001b[39;49m, visualize\u001b[39m=\u001b[39;49m\u001b[39mTrue\u001b[39;49;00m)\n",
      "File \u001b[1;32mc:\\Users\\darry\\AppData\\Local\\Programs\\Python\\Python311\\Lib\\site-packages\\rl\\core.py:352\u001b[0m, in \u001b[0;36mAgent.test\u001b[1;34m(self, env, nb_episodes, action_repetition, callbacks, visualize, nb_max_episode_steps, nb_max_start_steps, start_step_policy, verbose)\u001b[0m\n\u001b[0;32m    350\u001b[0m \u001b[39mif\u001b[39;00m \u001b[39mself\u001b[39m\u001b[39m.\u001b[39mprocessor \u001b[39mis\u001b[39;00m \u001b[39mnot\u001b[39;00m \u001b[39mNone\u001b[39;00m:\n\u001b[0;32m    351\u001b[0m     observation, r, d, info \u001b[39m=\u001b[39m \u001b[39mself\u001b[39m\u001b[39m.\u001b[39mprocessor\u001b[39m.\u001b[39mprocess_step(observation, r, d, info)\n\u001b[1;32m--> 352\u001b[0m callbacks\u001b[39m.\u001b[39;49mon_action_end(action)\n\u001b[0;32m    353\u001b[0m reward \u001b[39m+\u001b[39m\u001b[39m=\u001b[39m r\n\u001b[0;32m    354\u001b[0m \u001b[39mfor\u001b[39;00m key, value \u001b[39min\u001b[39;00m info\u001b[39m.\u001b[39mitems():\n",
      "File \u001b[1;32mc:\\Users\\darry\\AppData\\Local\\Programs\\Python\\Python311\\Lib\\site-packages\\rl\\callbacks.py:98\u001b[0m, in \u001b[0;36mCallbackList.on_action_end\u001b[1;34m(self, action, logs)\u001b[0m\n\u001b[0;32m     96\u001b[0m \u001b[39mfor\u001b[39;00m callback \u001b[39min\u001b[39;00m \u001b[39mself\u001b[39m\u001b[39m.\u001b[39mcallbacks:\n\u001b[0;32m     97\u001b[0m     \u001b[39mif\u001b[39;00m \u001b[39mcallable\u001b[39m(\u001b[39mgetattr\u001b[39m(callback, \u001b[39m'\u001b[39m\u001b[39mon_action_end\u001b[39m\u001b[39m'\u001b[39m, \u001b[39mNone\u001b[39;00m)):\n\u001b[1;32m---> 98\u001b[0m         callback\u001b[39m.\u001b[39;49mon_action_end(action, logs\u001b[39m=\u001b[39;49mlogs)\n",
      "File \u001b[1;32mc:\\Users\\darry\\AppData\\Local\\Programs\\Python\\Python311\\Lib\\site-packages\\rl\\callbacks.py:360\u001b[0m, in \u001b[0;36mVisualizer.on_action_end\u001b[1;34m(self, action, logs)\u001b[0m\n\u001b[0;32m    358\u001b[0m \u001b[39mdef\u001b[39;00m \u001b[39mon_action_end\u001b[39m(\u001b[39mself\u001b[39m, action, logs):\n\u001b[0;32m    359\u001b[0m \u001b[39m    \u001b[39m\u001b[39m\"\"\" Render environment at the end of each action \"\"\"\u001b[39;00m\n\u001b[1;32m--> 360\u001b[0m     \u001b[39mself\u001b[39;49m\u001b[39m.\u001b[39;49menv\u001b[39m.\u001b[39;49mrender(mode\u001b[39m=\u001b[39;49m\u001b[39m'\u001b[39;49m\u001b[39mhuman\u001b[39;49m\u001b[39m'\u001b[39;49m)\n",
      "\u001b[1;31mTypeError\u001b[0m: ShowerEnv.render() got an unexpected keyword argument 'mode'"
     ]
    }
   ],
   "source": [
    "_ = dqn.test(env, nb_episodes=15, visualize=True)"
   ]
  },
  {
   "attachments": {},
   "cell_type": "markdown",
   "metadata": {},
   "source": [
    "# 4. Reloading Agent from Memory"
   ]
  },
  {
   "cell_type": "code",
   "execution_count": null,
   "metadata": {},
   "outputs": [],
   "source": [
    "dqn.save_weights('dqn_weights.h5f', overwrite=True)"
   ]
  },
  {
   "cell_type": "code",
   "execution_count": null,
   "metadata": {},
   "outputs": [],
   "source": [
    "del model\n",
    "del dqn\n",
    "del env"
   ]
  },
  {
   "cell_type": "code",
   "execution_count": null,
   "metadata": {},
   "outputs": [],
   "source": [
    "env = gym.make('CartPole-v0')\n",
    "actions = env.action_space.n\n",
    "states = env.observation_space.shape[0]\n",
    "model = build_model(states, actions)\n",
    "dqn = build_agent(model, actions)\n",
    "dqn.compile(Adam(lr=1e-3), metrics=['mae'])"
   ]
  },
  {
   "cell_type": "code",
   "execution_count": null,
   "metadata": {},
   "outputs": [],
   "source": [
    "dqn.load_weights('dqn_weights.h5f')"
   ]
  },
  {
   "cell_type": "code",
   "execution_count": null,
   "metadata": {},
   "outputs": [],
   "source": [
    "_ = dqn.test(env, nb_episodes=5, visualize=True)"
   ]
  },
  {
   "cell_type": "code",
   "execution_count": null,
   "metadata": {},
   "outputs": [],
   "source": []
  }
 ],
 "metadata": {
  "kernelspec": {
   "display_name": "Python 3",
   "language": "python",
   "name": "python3"
  },
  "language_info": {
   "codemirror_mode": {
    "name": "ipython",
    "version": 3
   },
   "file_extension": ".py",
   "mimetype": "text/x-python",
   "name": "python",
   "nbconvert_exporter": "python",
   "pygments_lexer": "ipython3",
   "version": "3.11.3"
  }
 },
 "nbformat": 4,
 "nbformat_minor": 2
}
