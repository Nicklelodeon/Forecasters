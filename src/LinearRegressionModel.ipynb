{
 "cells": [
  {
   "cell_type": "code",
   "execution_count": 1,
   "metadata": {},
   "outputs": [],
   "source": [
    "import pandas as pd\n",
    "from sklearn import linear_model\n",
    "import statsmodels.api as sm\n",
    "from MLGenerateData import MLGenerateData\n",
    "from sklearn.model_selection import train_test_split\n",
    "from sklearn.metrics import mean_squared_error as MSE\n",
    "from sklearn.metrics import mean_absolute_error as MAE\n",
    "from sklearn.metrics import mean_absolute_percentage_error as MAPE\n",
    "import numpy as np "
   ]
  },
  {
   "cell_type": "code",
   "execution_count": 2,
   "metadata": {},
   "outputs": [
    {
     "name": "stdout",
     "output_type": "stream",
     "text": [
      "                            OLS Regression Results                            \n",
      "==============================================================================\n",
      "Dep. Variable:                 profit   R-squared:                       0.891\n",
      "Model:                            OLS   Adj. R-squared:                  0.890\n",
      "Method:                 Least Squares   F-statistic:                     824.5\n",
      "Date:                Mon, 12 Jun 2023   Prob (F-statistic):               0.00\n",
      "Time:                        12:33:12   Log-Likelihood:                -33985.\n",
      "No. Observations:                3164   AIC:                         6.803e+04\n",
      "Df Residuals:                    3132   BIC:                         6.823e+04\n",
      "Df Model:                          31                                         \n",
      "Covariance Type:            nonrobust                                         \n",
      "==============================================================================\n",
      "                 coef    std err          t      P>|t|      [0.025      0.975]\n",
      "------------------------------------------------------------------------------\n",
      "const       1.402e+04   1471.769      9.525      0.000    1.11e+04    1.69e+04\n",
      "Unnamed: 0     0.2130      0.161      1.324      0.186      -0.103       0.529\n",
      "month1       273.5248     69.517      3.935      0.000     137.221     409.828\n",
      "month2       204.4115     70.222      2.911      0.004      66.726     342.097\n",
      "month3       267.1657     73.463      3.637      0.000     123.126     411.206\n",
      "month4       234.0173     67.421      3.471      0.001     101.824     366.211\n",
      "month5       376.2671     68.709      5.476      0.000     241.548     510.986\n",
      "month6       182.3831     67.837      2.689      0.007      49.374     315.393\n",
      "month7       250.3513     69.677      3.593      0.000     113.734     386.968\n",
      "month8       334.4966     70.036      4.776      0.000     197.176     471.817\n",
      "month9       297.9741     70.869      4.205      0.000     159.020     436.928\n",
      "month10      343.1333     69.870      4.911      0.000     206.138     480.129\n",
      "month11      301.6312     69.185      4.360      0.000     165.978     437.284\n",
      "month12      196.0518     68.144      2.877      0.004      62.440     329.664\n",
      "month13      291.9085     68.948      4.234      0.000     156.720     427.097\n",
      "month14      314.6838     67.521      4.661      0.000     182.295     447.073\n",
      "month15      395.3695     69.625      5.679      0.000     258.854     531.885\n",
      "month16      262.4719     68.247      3.846      0.000     128.658     396.286\n",
      "month17      318.2404     70.491      4.515      0.000     180.026     456.454\n",
      "month18      199.3534     73.670      2.706      0.007      54.907     343.800\n",
      "month19      312.9236     69.174      4.524      0.000     177.294     448.554\n",
      "month20      265.3299     70.376      3.770      0.000     127.342     403.318\n",
      "month21      193.1723     70.537      2.739      0.006      54.869     331.475\n",
      "month22      333.0878     70.230      4.743      0.000     195.387     470.789\n",
      "month23      225.6602     71.134      3.172      0.002      86.186     365.134\n",
      "month24      258.3718     68.987      3.745      0.000     123.108     393.636\n",
      "s_DC1        109.4287     22.059      4.961      0.000      66.177     152.681\n",
      "S_DC1         40.0618     14.329      2.796      0.005      11.966      68.158\n",
      "s_DC2        101.3414     22.097      4.586      0.000      58.015     144.668\n",
      "S_DC2        174.6589     14.628     11.940      0.000     145.977     203.341\n",
      "s_r1        1599.8114     21.924     72.971      0.000    1556.825    1642.798\n",
      "S_r1          37.8653     14.341      2.640      0.008       9.747      65.984\n",
      "==============================================================================\n",
      "Omnibus:                       20.505   Durbin-Watson:                   1.996\n",
      "Prob(Omnibus):                  0.000   Jarque-Bera (JB):               20.732\n",
      "Skew:                          -0.191   Prob(JB):                     3.15e-05\n",
      "Kurtosis:                       2.893   Cond. No.                     2.02e+04\n",
      "==============================================================================\n",
      "\n",
      "Notes:\n",
      "[1] Standard Errors assume that the covariance matrix of the errors is correctly specified.\n",
      "[2] The condition number is large, 2.02e+04. This might indicate that there are\n",
      "strong multicollinearity or other numerical problems.\n",
      "mse: 128038493.03004067\n",
      "mae: 9243.015475851565\n",
      "mape: 0.04261405113703276\n",
      "smape: 4.239030847691717\n"
     ]
    },
    {
     "name": "stderr",
     "output_type": "stream",
     "text": [
      "/Users/nicholas/opt/anaconda3/lib/python3.9/site-packages/statsmodels/tsa/tsatools.py:142: FutureWarning: In a future version of pandas all arguments of concat except for the argument 'objs' will be keyword-only\n",
      "  x = pd.concat(x[::order], 1)\n"
     ]
    }
   ],
   "source": [
    "data = pd.read_csv(\"./6_24months_US_car_data.csv\")\n",
    "target = data['profit']\n",
    "predictors = data.drop(['profit'], axis=1)\n",
    "X_train, X_test, y_train, y_test = train_test_split(predictors, target, test_size=0.33, random_state=42)\n",
    "n_cols = predictors.shape[1]\n",
    "X_train = sm.add_constant(X_train)\n",
    "model = sm.OLS(y_train.astype(float), X_train.astype(float)).fit()\n",
    "\n",
    "X_test = sm.add_constant(X_test)\n",
    "preds = model.predict(X_test.astype(float))\n",
    "\n",
    "\n",
    "print(model.summary())\n",
    "print(\"mse: \" + str(MSE(y_test, preds)))\n",
    "print(\"mae: \" + str(MAE(y_test, preds)))\n",
    "print(\"mape: \" + str(MAPE(y_test, preds)))"
   ]
  }
 ],
 "metadata": {
  "kernelspec": {
   "display_name": "base",
   "language": "python",
   "name": "python3"
  },
  "language_info": {
   "codemirror_mode": {
    "name": "ipython",
    "version": 3
   },
   "file_extension": ".py",
   "mimetype": "text/x-python",
   "name": "python",
   "nbconvert_exporter": "python",
   "pygments_lexer": "ipython3",
   "version": "3.9.7"
  },
  "orig_nbformat": 4
 },
 "nbformat": 4,
 "nbformat_minor": 2
}
