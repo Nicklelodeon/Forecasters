{
 "cells": [
  {
   "cell_type": "code",
   "execution_count": null,
   "metadata": {},
   "outputs": [],
   "source": [
    "class Demandable():\n",
    "    def __init__(self, holding_cost):\n",
    "        self.inv_level = [] ## Each item has multiple inv level\n",
    "        self.upstream = [] ## Each upstream Demandables\n",
    "        self.holding_cost = holding_cost ## Possibly change for each item\n",
    "        \n",
    "    def demand(self, num_demands: int) -> None:\n",
    "        ## For each upstream Demandable, ask for this amount\n",
    "        for i in range(len(self.upstream)):\n",
    "            demandable = self.upstream[i]\n",
    "            self.inv_level[i] += demandable.getItems(num_demands)\n",
    "\n",
    "    def getItems(self, num_get: int) -> int:\n",
    "        items_out = min(num_get, inv_level)\n",
    "        self.inv_level -= items_out\n",
    "        return items_out\n",
    "    \n",
    "    def addUpstream(self, demandable: Demandable) -> None:\n",
    "        self.upstream.append(demandable)\n",
    "        self.upstream.append(50000) #Change later, perhaps random starting inventory\n",
    "    \n",
    "    def getHoldingCost(self) -> int:\n",
    "        return sum(self.inv_level) * self.holding_cost\n",
    "    \n",
    "    def getTotalHoldingCost(self) -> int: #Get all holding cost upstream\n",
    "        total = self.getHoldingCost()\n",
    "        for demandable in self.upstream:\n",
    "            total += demandable.getTotalHoldingCost()\n",
    "        return total"
   ]
  }
 ],
 "metadata": {
  "kernelspec": {
   "display_name": "Python 3",
   "language": "python",
   "name": "python3"
  },
  "language_info": {
   "name": "python",
   "version": "3.10.7"
  },
  "orig_nbformat": 4
 },
 "nbformat": 4,
 "nbformat_minor": 2
}
