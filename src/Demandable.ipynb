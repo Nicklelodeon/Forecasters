{
 "cells": [
  {
   "cell_type": "code",
   "execution_count": 20,
   "metadata": {},
   "outputs": [],
   "source": [
    "class Demandable:\n",
    "    def __init__(self, holding_cost):\n",
    "        self.inv_level = {} ## Each item has multiple inv level\n",
    "        self.upstream = [] ## Each upstream Demandables\n",
    "        self.holding_cost = holding_cost ## Possibly change for each item\n",
    "        \n",
    "    def demand(self, num_demands: int) -> None:\n",
    "        ## For each upstream Demandable, ask for this amount\n",
    "        for i in range(len(self.upstream)):\n",
    "            demandable = self.upstream[i]\n",
    "            self.inv_level[i] += demandable.getItems(num_demands)\n",
    "\n",
    "    def get_items(self, num_get: int) -> int:\n",
    "        items_out = min(num_get, min(self.inv_level))\n",
    "        for i in range(len(self.inv_level)):\n",
    "            self.inv_level[i] -= items_out\n",
    "        return items_out\n",
    "    \n",
    "    def add_upstream(self, demandable : \"Demandable\") -> None:\n",
    "        self.upstream.append(demandable)\n",
    "        self.inv_level.append(50000) #Change later, perhaps random starting inventory\n",
    "    \n",
    "    def get_hc(self) -> int:\n",
    "        return sum(self.inv_level) * self.holding_cost\n",
    "    \n",
    "    def get_totalhc(self) -> int: #Get all holding cost upstream\n",
    "        total = self.get_hc()\n",
    "        for demandable in self.upstream:\n",
    "            total += demandable.get_totalhc()\n",
    "        return total"
   ]
  },
  {
   "cell_type": "code",
   "execution_count": 16,
   "metadata": {},
   "outputs": [],
   "source": [
    "\"\"\" a = Demandable(100)\n",
    "b = Demandable(200)\n",
    "a.addUpstream(b)\n",
    "sum([])\n",
    "a.getTotalHoldingCost()\n",
    "a.getItems(100)\n",
    "\n",
    " \"\"\""
   ]
  }
 ],
 "metadata": {
  "kernelspec": {
   "display_name": "Python 3",
   "language": "python",
   "name": "python3"
  },
  "language_info": {
   "codemirror_mode": {
    "name": "ipython",
    "version": 3
   },
   "file_extension": ".py",
   "mimetype": "text/x-python",
   "name": "python",
   "nbconvert_exporter": "python",
   "pygments_lexer": "ipython3",
   "version": "3.10.7"
  },
  "orig_nbformat": 4
 },
 "nbformat": 4,
 "nbformat_minor": 2
}
