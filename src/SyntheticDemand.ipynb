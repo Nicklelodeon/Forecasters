{
 "cells": [
  {
   "cell_type": "code",
   "execution_count": 22,
   "metadata": {},
   "outputs": [
    {
     "name": "stdout",
     "output_type": "stream",
     "text": [
      "[2761, 2696, 2820, 2830, 2755, 2768, 2786, 2746, 2800, 2746, 2822, 2749, 2813, 2751, 2902, 2866, 2814, 2724, 2826, 2841, 2742, 2726, 2787, 2776, 2647, 2684, 2715, 2728, 2844, 2722, 2685, 2780, 2774, 2793, 2785, 2681, 2855, 2718, 2764, 2751, 2773, 2701, 2826, 2785, 2796, 2813, 2759, 2801, 2765, 2841, 2715, 2743, 2780, 2792, 2809, 2748, 2733, 2847, 2643, 2824, 2792, 2818, 2845, 2815, 2874, 2808, 2741, 2748, 2770, 2740, 2825, 2828, 2699, 2782, 2741, 2701, 2811, 2739, 2846, 2732, 2860, 2754, 2761, 2729, 2731, 2752, 2813, 2711, 2739, 2764, 2784, 2770, 2879, 2784, 2811, 2675, 2673, 2766, 2809, 2696, 2634, 2841, 2740, 2810, 2641, 2760, 2742, 2734, 2775, 2775, 2669, 2873, 2771, 2769, 2724, 2777, 2837, 2764, 2850, 2893, 2785, 2685, 2782, 2911, 2753, 2708, 2726, 2691, 2781, 2794, 2758, 2843, 2775, 2775, 2739, 2831, 2787, 2785, 2879, 2715, 2761, 2840, 2731, 2744, 2646, 2851, 2721, 2710, 2856, 2810, 2777, 2628, 2807, 2750, 2844, 2767, 2831, 2851, 2722, 2730, 2701, 2843, 2743, 2727, 2776, 2813, 2752, 2718, 2766, 2829, 2802, 2844, 2778, 2781, 2736, 2756, 2819, 2744, 2709, 2917, 2754, 2796, 2766, 2740, 2755, 2833, 2849, 2756, 2780, 2810, 2777, 2743, 2731, 2735, 2849, 2800, 2721, 2810, 2759, 2731, 2788, 2779, 2721, 2834, 2817, 2780, 2765, 2698, 2831, 2746, 2805, 2749, 2817, 2746, 2783, 2831, 2766, 2797, 2842, 2773, 2651, 2813, 2761, 2822, 2682, 2754, 2799, 2768, 2768, 2741, 2819, 2759, 2732, 2783, 2790, 2832, 2873, 2810, 2748, 2824, 2770, 2731, 2692, 2762, 2754, 2689, 2768, 2892, 2750, 2698, 2747, 2787, 2713, 2758, 2765, 2741, 2765, 2781, 2838, 2615, 2778, 2813, 2784, 2722, 2735, 2663, 2892, 2742, 2735, 2765, 2767, 2802, 2799, 2698, 2836, 2774, 2701, 2808, 2759, 2675, 2694, 2810, 2801, 2754, 2719, 2828, 2752, 2806, 2670, 2792, 2813, 2808, 2686, 2644, 2763, 2795, 2749, 2842, 2739, 2694, 2820, 2827, 2710, 2681, 2859, 2757, 2809, 2818, 2687, 2737, 2741, 2851, 2798, 2738, 2829, 2671, 2689, 2753, 2816, 2858, 2771, 2829, 2877, 2692, 2728, 2666, 2731, 2715, 2796, 2758, 2672, 2776, 2886, 2750, 2727, 2736, 2850, 2824, 2786, 2788, 2733, 2820, 2735, 2781, 2805, 2872, 2797, 2774, 2795, 2716, 2841, 2772, 2643, 2844, 2863, 2821, 2762, 2733, 2753, 2798, 2857, 2777, 2856, 2801, 2757]\n"
     ]
    }
   ],
   "source": [
    "# Create synthetic demand\n",
    "import math\n",
    "import numpy as np \n",
    "from scipy.stats import poisson\n",
    "from scipy.stats import gamma \n",
    "#Using poisson/gamma with consistent data\n",
    "demand_gamma = [round(x) for x in gamma.rvs(2778, size=365)]\n",
    "demand_poisson = poisson.rvs(mu=2778, size=365)\n",
    "demand_normal = [round(x) for x in np.random.normal(2778, math.sqrt(2778), 365)]\n",
    "#print(demand_data)\n",
    "#print(demand_2)\n",
    "print(demand_normal)\n"
   ]
  },
  {
   "cell_type": "code",
   "execution_count": 1,
   "metadata": {},
   "outputs": [
    {
     "ename": "NameError",
     "evalue": "name 'np' is not defined",
     "output_type": "error",
     "traceback": [
      "\u001b[0;31m---------------------------------------------------------------------------\u001b[0m",
      "\u001b[0;31mNameError\u001b[0m                                 Traceback (most recent call last)",
      "\u001b[0;32m/var/folders/pc/6ptp7l_n5dv0mgqvds_4y2fr0000gn/T/ipykernel_6226/563984446.py\u001b[0m in \u001b[0;36m<module>\u001b[0;34m\u001b[0m\n\u001b[1;32m      6\u001b[0m     \u001b[0;31m#Estimate 70% demand of 2778 (1945) in months 1-3, 5-6, 10\u001b[0m\u001b[0;34m\u001b[0m\u001b[0;34m\u001b[0m\u001b[0m\n\u001b[1;32m      7\u001b[0m     \u001b[0;32mif\u001b[0m \u001b[0mi\u001b[0m \u001b[0;32min\u001b[0m \u001b[0;34m[\u001b[0m\u001b[0;36m1\u001b[0m\u001b[0;34m,\u001b[0m \u001b[0;36m2\u001b[0m\u001b[0;34m,\u001b[0m \u001b[0;36m3\u001b[0m\u001b[0;34m,\u001b[0m \u001b[0;36m5\u001b[0m\u001b[0;34m,\u001b[0m \u001b[0;36m6\u001b[0m\u001b[0;34m,\u001b[0m \u001b[0;36m10\u001b[0m\u001b[0;34m]\u001b[0m\u001b[0;34m:\u001b[0m\u001b[0;34m\u001b[0m\u001b[0;34m\u001b[0m\u001b[0m\n\u001b[0;32m----> 8\u001b[0;31m         \u001b[0mdemand\u001b[0m\u001b[0;34m.\u001b[0m\u001b[0mextend\u001b[0m\u001b[0;34m(\u001b[0m\u001b[0;34m[\u001b[0m\u001b[0mround\u001b[0m\u001b[0;34m(\u001b[0m\u001b[0mx\u001b[0m\u001b[0;34m)\u001b[0m \u001b[0;32mfor\u001b[0m \u001b[0mx\u001b[0m \u001b[0;32min\u001b[0m \u001b[0mnp\u001b[0m\u001b[0;34m.\u001b[0m\u001b[0mrandom\u001b[0m\u001b[0;34m.\u001b[0m\u001b[0mnormal\u001b[0m\u001b[0;34m(\u001b[0m\u001b[0;36m1945\u001b[0m\u001b[0;34m,\u001b[0m \u001b[0mmath\u001b[0m\u001b[0;34m.\u001b[0m\u001b[0msqrt\u001b[0m\u001b[0;34m(\u001b[0m\u001b[0;36m1945\u001b[0m\u001b[0;34m)\u001b[0m\u001b[0;34m,\u001b[0m \u001b[0;36m30\u001b[0m\u001b[0;34m)\u001b[0m\u001b[0;34m]\u001b[0m\u001b[0;34m)\u001b[0m\u001b[0;34m\u001b[0m\u001b[0;34m\u001b[0m\u001b[0m\n\u001b[0m\u001b[1;32m      9\u001b[0m     \u001b[0;31m#Estimate 130% demand of 2778 (3611) in other months (peak months)\u001b[0m\u001b[0;34m\u001b[0m\u001b[0;34m\u001b[0m\u001b[0m\n\u001b[1;32m     10\u001b[0m     \u001b[0;32melse\u001b[0m\u001b[0;34m:\u001b[0m\u001b[0;34m\u001b[0m\u001b[0;34m\u001b[0m\u001b[0m\n",
      "\u001b[0;31mNameError\u001b[0m: name 'np' is not defined"
     ]
    }
   ],
   "source": [
    "#Model with normal approximation, accounting for months where demand is higher\n",
    "import math\n",
    "demand = []\n",
    "#Estimate 70% demand of 2778 (1945) in months 1-3, 5-6, 10\n",
    "for i in range(1,13):\n",
    "    #Estimate 70% demand of 2778 (1945) in months 1-3, 5-6, 10\n",
    "    if i in [1, 2, 3, 5, 6, 10]: \n",
    "        demand.extend([round(x) for x in np.random.normal(1945, math.sqrt(1945), 30)])\n",
    "    #Estimate 130% demand of 2778 (3611) in other months (peak months)\n",
    "    else:\n",
    "        demand.extend([round(x) for x in np.random.normal(3611, math.sqrt(3611), 30)])\n",
    "print(demand)"
   ]
  }
 ],
 "metadata": {
  "kernelspec": {
   "display_name": "base",
   "language": "python",
   "name": "python3"
  },
  "language_info": {
   "codemirror_mode": {
    "name": "ipython",
    "version": 3
   },
   "file_extension": ".py",
   "mimetype": "text/x-python",
   "name": "python",
   "nbconvert_exporter": "python",
   "pygments_lexer": "ipython3",
   "version": "3.9.7"
  },
  "orig_nbformat": 4
 },
 "nbformat": 4,
 "nbformat_minor": 2
}
