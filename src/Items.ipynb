{
 "cells": [
  {
   "cell_type": "code",
   "execution_count": 28,
   "metadata": {},
   "outputs": [],
   "source": [
    "class Items:\n",
    "    def __init__(self):\n",
    "        self.item_list = set()\n",
    "\n",
    "    def add(self, item):\n",
    "        self.item_list.add(item)\n",
    "    \n",
    "    def remove(self, item):\n",
    "        try:\n",
    "            self.item_list.remove(item)\n",
    "        except KeyError:\n",
    "            print(\"Invalid item!\")\n",
    "    \n",
    "    def contains(self, item):\n",
    "        return item in self.item_list\n",
    "\n",
    "    def size(self):\n",
    "        return len(self.item_list)\n",
    "\n",
    "    def __str__(self):\n",
    "        string = \"\"\n",
    "        for i in self.item_list:\n",
    "            string += i.get_name() + \" \"\n",
    "        return string\n",
    "\n",
    "\n"
   ]
  },
  {
   "cell_type": "code",
   "execution_count": 31,
   "metadata": {},
   "outputs": [
    {
     "name": "stdout",
     "output_type": "stream",
     "text": [
      "Invalid item!\n"
     ]
    },
    {
     "data": {
      "text/plain": [
       "True"
      ]
     },
     "execution_count": 31,
     "metadata": {},
     "output_type": "execute_result"
    }
   ],
   "source": [
    "\"\"\" %run Item.ipynb\n",
    "a = Item(\"screw\", 3)\n",
    "b = Item(\"led\", 5)\n",
    "c= Item(\"torch\", 2)\n",
    "storage = Items()\n",
    "storage.add(a)\n",
    "storage.add(b)\n",
    "storage.remove(a)\n",
    "storage.remove(2)\n",
    "storage.contains(b) \"\"\""
   ]
  },
  {
   "cell_type": "code",
   "execution_count": null,
   "metadata": {},
   "outputs": [],
   "source": []
  },
  {
   "cell_type": "code",
   "execution_count": null,
   "metadata": {},
   "outputs": [],
   "source": []
  },
  {
   "cell_type": "code",
   "execution_count": null,
   "metadata": {},
   "outputs": [],
   "source": []
  },
  {
   "cell_type": "code",
   "execution_count": null,
   "metadata": {},
   "outputs": [],
   "source": []
  },
  {
   "cell_type": "code",
   "execution_count": null,
   "metadata": {},
   "outputs": [],
   "source": []
  },
  {
   "cell_type": "code",
   "execution_count": null,
   "metadata": {},
   "outputs": [],
   "source": []
  },
  {
   "cell_type": "code",
   "execution_count": null,
   "metadata": {},
   "outputs": [],
   "source": []
  }
 ],
 "metadata": {
  "kernelspec": {
   "display_name": "base",
   "language": "python",
   "name": "python3"
  },
  "language_info": {
   "codemirror_mode": {
    "name": "ipython",
    "version": 3
   },
   "file_extension": ".py",
   "mimetype": "text/x-python",
   "name": "python",
   "nbconvert_exporter": "python",
   "pygments_lexer": "ipython3",
   "version": "3.9.7"
  },
  "orig_nbformat": 4
 },
 "nbformat": 4,
 "nbformat_minor": 2
}
