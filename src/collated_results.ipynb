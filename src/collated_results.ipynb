{
 "cells": [
  {
   "cell_type": "code",
   "execution_count": 4,
   "metadata": {},
   "outputs": [
    {
     "data": {
      "image/png": "[encoded data removed]",
      "text/plain": [
       "<Figure size 432x288 with 1 Axes>"
      ]
     },
     "metadata": {
      "needs_background": "light"
     },
     "output_type": "display_data"
    }
   ],
   "source": [
    "import numpy as np\n",
    "import pandas as pd\n",
    "\n",
    "from State import State\n",
    "from GenerateDemandMonthly import GenerateDemandMonthly\n",
    "import matplotlib.pyplot as plt\n",
    "import seaborn as sns \n",
    "\n",
    "\n",
    "#### Generate New Demand ####\n",
    "\n",
    "\n",
    "df = pd.read_csv(\"./TOTALSA.csv\")\n",
    "mean = df['TOTALSA'].mean()\n",
    "std = df['TOTALSA'].std()\n",
    "state = State()\n",
    "state.create_state([-1 ,0, 1, 1, 2, 2], mean=mean, std=std)\n",
    "\n",
    "# Bayesian\n",
    "# print('r1', state.run(42.65454086832623, 55.47066141610458, 45.23110339190882 , 69.56550258424139, 30.0, 50.14861820830117))\n",
    "bayesian = state.test_no_season(42.65454086832623, 55.47066141610458, 45.23110339190882 , 69.56550258424139, 30.0, 50.14861820830117)\n",
    "\n",
    "\n",
    "# GA\n",
    "# print('r1', state.run(54, 63, 42, 47, 42, 49))\n",
    "ga = state.test_no_season(54, 63, 42, 47, 42, 49 )\n",
    "\n",
    "# OLS\n",
    "# print('r1', state.run(36, 44, 41, 48, 34, 38))\n",
    "ols = state.test_no_season(36, 44, 41, 48, 34, 38)\n",
    "# print(bayesian)\n",
    "# print(ga)\n",
    "# print(ols)\n",
    "# \n",
    "ax = sns.boxplot(data=[bayesian, ga, ols])\n",
    "ax.set_xticklabels(['Bayesian', 'GA', 'OLS'])\n",
    "plt.show()\n"
   ]
  }
 ],
 "metadata": {
  "kernelspec": {
   "display_name": "base",
   "language": "python",
   "name": "python3"
  },
  "language_info": {
   "codemirror_mode": {
    "name": "ipython",
    "version": 3
   },
   "file_extension": ".py",
   "mimetype": "text/x-python",
   "name": "python",
   "nbconvert_exporter": "python",
   "pygments_lexer": "ipython3",
   "version": "3.9.7"
  },
  "orig_nbformat": 4
 },
 "nbformat": 4,
 "nbformat_minor": 2
}
