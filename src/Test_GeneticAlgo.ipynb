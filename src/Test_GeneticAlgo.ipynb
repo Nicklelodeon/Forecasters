{
 "cells": [
  {
   "cell_type": "code",
   "execution_count": 13,
   "metadata": {},
   "outputs": [],
   "source": [
    "import numpy as np\n",
    "from geneticalgorithm import geneticalgorithm as ga\n",
    "from State import State\n",
    "from GenerateDemandMonthly import GenerateDemandMonthly\n",
    "from GeneticAlgoState import GeneticAlgoState"
   ]
  },
  {
   "cell_type": "code",
   "execution_count": 14,
   "metadata": {},
   "outputs": [],
   "source": [
    "genstate = GeneticAlgoState()\n",
    "genstate.create_state([-1,0, 1, 1, 2, 2])\n",
    "\n",
    "#print(-1 * genstate.GArun([58,69,41,52,49,52]))\n",
    "\n",
    "def f(X):\n",
    "    return -1 * genstate.GArun(X)"
   ]
  },
  {
   "cell_type": "code",
   "execution_count": 10,
   "metadata": {},
   "outputs": [],
   "source": [
    "def f(X):\n",
    "    return -1 * genstate.GArun2(X)\n",
    "\n",
    "varbound=np.array([[40,90]]*72)\n",
    "\n",
    "algorithm_param = {'max_num_iteration': 1000,\\\n",
    "                   'population_size':100,\\\n",
    "                   'mutation_probability':0.1,\\\n",
    "                   'elit_ratio': 0.01,\\\n",
    "                   'crossover_probability': 0.5,\\\n",
    "                   'parents_portion': 0.3,\\\n",
    "                   'crossover_type':'uniform',\\\n",
    "                   'max_iteration_without_improv':None}\n",
    "\n",
    "model=ga(function=f,dimension=72,variable_type='int',variable_boundaries=varbound, algorithm_parameters=algorithm_param)\n",
    " "
   ]
  },
  {
   "cell_type": "code",
   "execution_count": 11,
   "metadata": {},
   "outputs": [
    {
     "name": "stdout",
     "output_type": "stream",
     "text": [
      "__________________________________________________ 0.4% GA is running..."
     ]
    },
    {
     "ename": "KeyboardInterrupt",
     "evalue": "",
     "output_type": "error",
     "traceback": [
      "\u001b[1;31m---------------------------------------------------------------------------\u001b[0m",
      "\u001b[1;31mKeyboardInterrupt\u001b[0m                         Traceback (most recent call last)",
      "Cell \u001b[1;32mIn[11], line 1\u001b[0m\n\u001b[1;32m----> 1\u001b[0m model\u001b[39m.\u001b[39;49mrun()\n",
      "File \u001b[1;32mc:\\Users\\darry\\AppData\\Local\\Programs\\Python\\Python311\\Lib\\site-packages\\geneticalgorithm\\geneticalgorithm.py:403\u001b[0m, in \u001b[0;36mgeneticalgorithm.run\u001b[1;34m(self)\u001b[0m\n\u001b[0;32m    401\u001b[0m ch2\u001b[39m=\u001b[39m\u001b[39mself\u001b[39m\u001b[39m.\u001b[39mmutmidle(ch2,pvar1,pvar2)               \n\u001b[0;32m    402\u001b[0m solo[: \u001b[39mself\u001b[39m\u001b[39m.\u001b[39mdim]\u001b[39m=\u001b[39mch1\u001b[39m.\u001b[39mcopy()                \n\u001b[1;32m--> 403\u001b[0m obj\u001b[39m=\u001b[39m\u001b[39mself\u001b[39;49m\u001b[39m.\u001b[39;49msim(ch1)\n\u001b[0;32m    404\u001b[0m solo[\u001b[39mself\u001b[39m\u001b[39m.\u001b[39mdim]\u001b[39m=\u001b[39mobj\n\u001b[0;32m    405\u001b[0m pop[k]\u001b[39m=\u001b[39msolo\u001b[39m.\u001b[39mcopy()                \n",
      "File \u001b[1;32mc:\\Users\\darry\\AppData\\Local\\Programs\\Python\\Python311\\Lib\\site-packages\\geneticalgorithm\\geneticalgorithm.py:542\u001b[0m, in \u001b[0;36mgeneticalgorithm.sim\u001b[1;34m(self, X)\u001b[0m\n\u001b[0;32m    540\u001b[0m obj\u001b[39m=\u001b[39m\u001b[39mNone\u001b[39;00m\n\u001b[0;32m    541\u001b[0m \u001b[39mtry\u001b[39;00m:\n\u001b[1;32m--> 542\u001b[0m     obj\u001b[39m=\u001b[39mfunc_timeout(\u001b[39mself\u001b[39;49m\u001b[39m.\u001b[39;49mfuntimeout,\u001b[39mself\u001b[39;49m\u001b[39m.\u001b[39;49mevaluate)\n\u001b[0;32m    543\u001b[0m \u001b[39mexcept\u001b[39;00m FunctionTimedOut:\n\u001b[0;32m    544\u001b[0m     \u001b[39mprint\u001b[39m(\u001b[39m\"\u001b[39m\u001b[39mgiven function is not applicable\u001b[39m\u001b[39m\"\u001b[39m)\n",
      "File \u001b[1;32mc:\\Users\\darry\\AppData\\Local\\Programs\\Python\\Python311\\Lib\\site-packages\\func_timeout\\dafunc.py:86\u001b[0m, in \u001b[0;36mfunc_timeout\u001b[1;34m(timeout, func, args, kwargs)\u001b[0m\n\u001b[0;32m     83\u001b[0m thread\u001b[39m.\u001b[39mdaemon \u001b[39m=\u001b[39m \u001b[39mTrue\u001b[39;00m\n\u001b[0;32m     85\u001b[0m thread\u001b[39m.\u001b[39mstart()\n\u001b[1;32m---> 86\u001b[0m thread\u001b[39m.\u001b[39;49mjoin(timeout)\n\u001b[0;32m     88\u001b[0m stopException \u001b[39m=\u001b[39m \u001b[39mNone\u001b[39;00m\n\u001b[0;32m     89\u001b[0m \u001b[39mif\u001b[39;00m thread\u001b[39m.\u001b[39mis_alive():\n",
      "File \u001b[1;32mc:\\Users\\darry\\AppData\\Local\\Programs\\Python\\Python311\\Lib\\threading.py:1116\u001b[0m, in \u001b[0;36mThread.join\u001b[1;34m(self, timeout)\u001b[0m\n\u001b[0;32m   1112\u001b[0m     \u001b[39mself\u001b[39m\u001b[39m.\u001b[39m_wait_for_tstate_lock()\n\u001b[0;32m   1113\u001b[0m \u001b[39melse\u001b[39;00m:\n\u001b[0;32m   1114\u001b[0m     \u001b[39m# the behavior of a negative timeout isn't documented, but\u001b[39;00m\n\u001b[0;32m   1115\u001b[0m     \u001b[39m# historically .join(timeout=x) for x<0 has acted as if timeout=0\u001b[39;00m\n\u001b[1;32m-> 1116\u001b[0m     \u001b[39mself\u001b[39;49m\u001b[39m.\u001b[39;49m_wait_for_tstate_lock(timeout\u001b[39m=\u001b[39;49m\u001b[39mmax\u001b[39;49m(timeout, \u001b[39m0\u001b[39;49m))\n",
      "File \u001b[1;32mc:\\Users\\darry\\AppData\\Local\\Programs\\Python\\Python311\\Lib\\threading.py:1132\u001b[0m, in \u001b[0;36mThread._wait_for_tstate_lock\u001b[1;34m(self, block, timeout)\u001b[0m\n\u001b[0;32m   1129\u001b[0m     \u001b[39mreturn\u001b[39;00m\n\u001b[0;32m   1131\u001b[0m \u001b[39mtry\u001b[39;00m:\n\u001b[1;32m-> 1132\u001b[0m     \u001b[39mif\u001b[39;00m lock\u001b[39m.\u001b[39;49macquire(block, timeout):\n\u001b[0;32m   1133\u001b[0m         lock\u001b[39m.\u001b[39mrelease()\n\u001b[0;32m   1134\u001b[0m         \u001b[39mself\u001b[39m\u001b[39m.\u001b[39m_stop()\n",
      "\u001b[1;31mKeyboardInterrupt\u001b[0m: "
     ]
    }
   ],
   "source": [
    "model.run()"
   ]
  },
  {
   "cell_type": "code",
   "execution_count": 15,
   "metadata": {},
   "outputs": [
    {
     "ename": "AttributeError",
     "evalue": "module 'numpy' has no attribute 'aray'",
     "output_type": "error",
     "traceback": [
      "\u001b[1;31m---------------------------------------------------------------------------\u001b[0m",
      "\u001b[1;31mAttributeError\u001b[0m                            Traceback (most recent call last)",
      "Cell \u001b[1;32mIn[15], line 19\u001b[0m\n\u001b[0;32m      7\u001b[0m algorithm_param \u001b[39m=\u001b[39m {\u001b[39m'\u001b[39m\u001b[39mmax_num_iteration\u001b[39m\u001b[39m'\u001b[39m: \u001b[39m1000\u001b[39m,\\\n\u001b[0;32m      8\u001b[0m                    \u001b[39m'\u001b[39m\u001b[39mpopulation_size\u001b[39m\u001b[39m'\u001b[39m:\u001b[39m100\u001b[39m,\\\n\u001b[0;32m      9\u001b[0m                    \u001b[39m'\u001b[39m\u001b[39mmutation_probability\u001b[39m\u001b[39m'\u001b[39m:\u001b[39m0.1\u001b[39m,\\\n\u001b[1;32m   (...)\u001b[0m\n\u001b[0;32m     13\u001b[0m                    \u001b[39m'\u001b[39m\u001b[39mcrossover_type\u001b[39m\u001b[39m'\u001b[39m:\u001b[39m'\u001b[39m\u001b[39muniform\u001b[39m\u001b[39m'\u001b[39m,\\\n\u001b[0;32m     14\u001b[0m                    \u001b[39m'\u001b[39m\u001b[39mmax_iteration_without_improv\u001b[39m\u001b[39m'\u001b[39m:\u001b[39mNone\u001b[39;00m}\n\u001b[0;32m     17\u001b[0m model2\u001b[39m=\u001b[39mga(function\u001b[39m=\u001b[39mg,dimension\u001b[39m=\u001b[39m\u001b[39m7\u001b[39m,variable_type_mixed\u001b[39m=\u001b[39mvartype,variable_boundaries\u001b[39m=\u001b[39mvarbound, algorithm_parameters\u001b[39m=\u001b[39malgorithm_param)\n\u001b[1;32m---> 19\u001b[0m model2\u001b[39m.\u001b[39;49mrun()\n",
      "File \u001b[1;32mc:\\Users\\darry\\AppData\\Local\\Programs\\Python\\Python311\\Lib\\site-packages\\geneticalgorithm\\geneticalgorithm.py:303\u001b[0m, in \u001b[0;36mgeneticalgorithm.run\u001b[1;34m(self)\u001b[0m\n\u001b[0;32m    298\u001b[0m     var[i]\u001b[39m=\u001b[39m\u001b[39mself\u001b[39m\u001b[39m.\u001b[39mvar_bound[i][\u001b[39m0\u001b[39m]\u001b[39m+\u001b[39mnp\u001b[39m.\u001b[39mrandom\u001b[39m.\u001b[39mrandom()\u001b[39m*\u001b[39m\\\n\u001b[0;32m    299\u001b[0m     (\u001b[39mself\u001b[39m\u001b[39m.\u001b[39mvar_bound[i][\u001b[39m1\u001b[39m]\u001b[39m-\u001b[39m\u001b[39mself\u001b[39m\u001b[39m.\u001b[39mvar_bound[i][\u001b[39m0\u001b[39m])    \n\u001b[0;32m    300\u001b[0m     solo[i]\u001b[39m=\u001b[39mvar[i]\u001b[39m.\u001b[39mcopy()\n\u001b[1;32m--> 303\u001b[0m obj\u001b[39m=\u001b[39m\u001b[39mself\u001b[39;49m\u001b[39m.\u001b[39;49msim(var)            \n\u001b[0;32m    304\u001b[0m solo[\u001b[39mself\u001b[39m\u001b[39m.\u001b[39mdim]\u001b[39m=\u001b[39mobj\n\u001b[0;32m    305\u001b[0m pop[p]\u001b[39m=\u001b[39msolo\u001b[39m.\u001b[39mcopy()\n",
      "File \u001b[1;32mc:\\Users\\darry\\AppData\\Local\\Programs\\Python\\Python311\\Lib\\site-packages\\geneticalgorithm\\geneticalgorithm.py:542\u001b[0m, in \u001b[0;36mgeneticalgorithm.sim\u001b[1;34m(self, X)\u001b[0m\n\u001b[0;32m    540\u001b[0m obj\u001b[39m=\u001b[39m\u001b[39mNone\u001b[39;00m\n\u001b[0;32m    541\u001b[0m \u001b[39mtry\u001b[39;00m:\n\u001b[1;32m--> 542\u001b[0m     obj\u001b[39m=\u001b[39mfunc_timeout(\u001b[39mself\u001b[39;49m\u001b[39m.\u001b[39;49mfuntimeout,\u001b[39mself\u001b[39;49m\u001b[39m.\u001b[39;49mevaluate)\n\u001b[0;32m    543\u001b[0m \u001b[39mexcept\u001b[39;00m FunctionTimedOut:\n\u001b[0;32m    544\u001b[0m     \u001b[39mprint\u001b[39m(\u001b[39m\"\u001b[39m\u001b[39mgiven function is not applicable\u001b[39m\u001b[39m\"\u001b[39m)\n",
      "File \u001b[1;32mc:\\Users\\darry\\AppData\\Local\\Programs\\Python\\Python311\\Lib\\site-packages\\func_timeout\\dafunc.py:108\u001b[0m, in \u001b[0;36mfunc_timeout\u001b[1;34m(timeout, func, args, kwargs)\u001b[0m\n\u001b[0;32m    105\u001b[0m     thread\u001b[39m.\u001b[39mjoin(\u001b[39m.5\u001b[39m)\n\u001b[0;32m    107\u001b[0m \u001b[39mif\u001b[39;00m exception:\n\u001b[1;32m--> 108\u001b[0m     raise_exception(exception)\n\u001b[0;32m    110\u001b[0m \u001b[39mif\u001b[39;00m ret:\n\u001b[0;32m    111\u001b[0m     \u001b[39mreturn\u001b[39;00m ret[\u001b[39m0\u001b[39m]\n",
      "File \u001b[1;32mc:\\Users\\darry\\AppData\\Local\\Programs\\Python\\Python311\\Lib\\site-packages\\func_timeout\\py3_raise.py:7\u001b[0m, in \u001b[0;36mraise_exception\u001b[1;34m(exception)\u001b[0m\n\u001b[0;32m      6\u001b[0m \u001b[39mdef\u001b[39;00m \u001b[39mraise_exception\u001b[39m(exception):\n\u001b[1;32m----> 7\u001b[0m     \u001b[39mraise\u001b[39;00m exception[\u001b[39m0\u001b[39m] \u001b[39mfrom\u001b[39;00m \u001b[39mNone\u001b[39;00m\n",
      "File \u001b[1;32mc:\\Users\\darry\\AppData\\Local\\Programs\\Python\\Python311\\Lib\\site-packages\\geneticalgorithm\\geneticalgorithm.py:536\u001b[0m, in \u001b[0;36mgeneticalgorithm.evaluate\u001b[1;34m(self)\u001b[0m\n\u001b[0;32m    535\u001b[0m \u001b[39mdef\u001b[39;00m \u001b[39mevaluate\u001b[39m(\u001b[39mself\u001b[39m):\n\u001b[1;32m--> 536\u001b[0m     \u001b[39mreturn\u001b[39;00m \u001b[39mself\u001b[39;49m\u001b[39m.\u001b[39;49mf(\u001b[39mself\u001b[39;49m\u001b[39m.\u001b[39;49mtemp)\n",
      "Cell \u001b[1;32mIn[15], line 2\u001b[0m, in \u001b[0;36mg\u001b[1;34m(X)\u001b[0m\n\u001b[0;32m      1\u001b[0m \u001b[39mdef\u001b[39;00m \u001b[39mg\u001b[39m(X):\n\u001b[1;32m----> 2\u001b[0m     \u001b[39mreturn\u001b[39;00m \u001b[39m-\u001b[39m\u001b[39m1\u001b[39m \u001b[39m*\u001b[39m genstate\u001b[39m.\u001b[39;49mGArun_no_season(X)\n",
      "File \u001b[1;32mc:\\Users\\darry\\OneDrive\\Desktop\\NUS\\Astar\\Forecasters\\src\\GeneticAlgoState.py:16\u001b[0m, in \u001b[0;36mGeneticAlgoState.GArun_no_season\u001b[1;34m(self, X)\u001b[0m\n\u001b[0;32m     14\u001b[0m \u001b[39mdef\u001b[39;00m \u001b[39mGArun_no_season\u001b[39m(\u001b[39mself\u001b[39m, X):\n\u001b[0;32m     15\u001b[0m     \u001b[39mself\u001b[39m\u001b[39m.\u001b[39mdemand_class\u001b[39m.\u001b[39msimulate_normal_no_season(\u001b[39m24\u001b[39m \u001b[39m*\u001b[39m \u001b[39mself\u001b[39m\u001b[39m.\u001b[39miteration)\n\u001b[1;32m---> 16\u001b[0m     \u001b[39mself\u001b[39m\u001b[39m.\u001b[39mdemand_temp \u001b[39m=\u001b[39m np\u001b[39m.\u001b[39;49maray(\u001b[39mself\u001b[39m\u001b[39m.\u001b[39mdemand_class\u001b[39m.\u001b[39mget_demand())\n\u001b[0;32m     17\u001b[0m     \u001b[39mself\u001b[39m\u001b[39m.\u001b[39mdemand_matrix \u001b[39m=\u001b[39m np\u001b[39m.\u001b[39mreshape(\u001b[39mself\u001b[39m\u001b[39m.\u001b[39mdemand_temp, (\u001b[39mself\u001b[39m\u001b[39m.\u001b[39miteration, \u001b[39m24\u001b[39m))\n\u001b[0;32m     19\u001b[0m     \u001b[39mfor\u001b[39;00m j \u001b[39min\u001b[39;00m \u001b[39mrange\u001b[39m(\u001b[39m1\u001b[39m,\u001b[39mlen\u001b[39m(\u001b[39mself\u001b[39m\u001b[39m.\u001b[39mchangeable_network)):\n",
      "File \u001b[1;32mc:\\Users\\darry\\AppData\\Local\\Programs\\Python\\Python311\\Lib\\site-packages\\numpy\\__init__.py:311\u001b[0m, in \u001b[0;36m__getattr__\u001b[1;34m(attr)\u001b[0m\n\u001b[0;32m    308\u001b[0m     \u001b[39mfrom\u001b[39;00m \u001b[39m.\u001b[39;00m\u001b[39mtesting\u001b[39;00m \u001b[39mimport\u001b[39;00m Tester\n\u001b[0;32m    309\u001b[0m     \u001b[39mreturn\u001b[39;00m Tester\n\u001b[1;32m--> 311\u001b[0m \u001b[39mraise\u001b[39;00m \u001b[39mAttributeError\u001b[39;00m(\u001b[39m\"\u001b[39m\u001b[39mmodule \u001b[39m\u001b[39m{!r}\u001b[39;00m\u001b[39m has no attribute \u001b[39m\u001b[39m\"\u001b[39m\n\u001b[0;32m    312\u001b[0m                      \u001b[39m\"\u001b[39m\u001b[39m{!r}\u001b[39;00m\u001b[39m\"\u001b[39m\u001b[39m.\u001b[39mformat(\u001b[39m__name__\u001b[39m, attr))\n",
      "\u001b[1;31mAttributeError\u001b[0m: module 'numpy' has no attribute 'aray'"
     ]
    }
   ],
   "source": [
    "def g(X):\n",
    "    return -1 * genstate.GArun_no_season(X) #7 parameters\n",
    "\n",
    "varbound=np.array([[20, 85],[20,50], [20,50], [20,50], [60, 90], [60, 90], [60, 90]])\n",
    "vartype=np.array([['int'],['int'],['int'], ['int'], ['int'], ['int'],['int'] ])\n",
    "\n",
    "algorithm_param = {'max_num_iteration': 1000,\\\n",
    "                   'population_size':100,\\\n",
    "                   'mutation_probability':0.1,\\\n",
    "                   'elit_ratio': 0.01,\\\n",
    "                   'crossover_probability': 0.5,\\\n",
    "                   'parents_portion': 0.3,\\\n",
    "                   'crossover_type':'uniform',\\\n",
    "                   'max_iteration_without_improv':None}\n",
    "\n",
    "\n",
    "model2=ga(function=g,dimension=7,variable_type_mixed=vartype,variable_boundaries=varbound, algorithm_parameters=algorithm_param)\n",
    "\n",
    "model2.run()"
   ]
  }
 ],
 "metadata": {
  "kernelspec": {
   "display_name": "Python 3",
   "language": "python",
   "name": "python3"
  },
  "language_info": {
   "codemirror_mode": {
    "name": "ipython",
    "version": 3
   },
   "file_extension": ".py",
   "mimetype": "text/x-python",
   "name": "python",
   "nbconvert_exporter": "python",
   "pygments_lexer": "ipython3",
   "version": "3.11.3"
  },
  "orig_nbformat": 4
 },
 "nbformat": 4,
 "nbformat_minor": 2
}
