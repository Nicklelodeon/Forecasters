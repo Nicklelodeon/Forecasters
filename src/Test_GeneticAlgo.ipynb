{
 "cells": [
  {
   "cell_type": "code",
   "execution_count": 1,
   "metadata": {},
   "outputs": [],
   "source": [
    "import numpy as np\n",
    "from geneticalgorithm import geneticalgorithm as ga\n",
    "from State import State\n",
    "from GenerateDemandMonthly import GenerateDemandMonthly\n",
    "import pandas as pd"
   ]
  },
  {
   "cell_type": "code",
   "execution_count": 2,
   "metadata": {},
   "outputs": [],
   "source": [
    "algorithm_param = {'max_num_iteration': 1000,\\\n",
    "                   'population_size':300,\\\n",
    "                   'mutation_probability':0.5,\\\n",
    "                   'elit_ratio': 0.01,\\\n",
    "                   'crossover_probability': 0.5,\\\n",
    "                   'parents_portion': 0.3,\\\n",
    "                   'crossover_type':'uniform',\\\n",
    "                   'max_iteration_without_improv':300}\n",
    "\n",
    "df = pd.read_csv(\"./TOTALSA.csv\")\n",
    "mean = df['TOTALSA'].mean()\n",
    "std = df['TOTALSA'].std()\n",
    "\n",
    "state = State()\n",
    "state.create_state([-1 ,0, 1, 1, 2, 2], mean=mean, std=std, cost=4)\n",
    "varbound=np.array([[round(mean * 2), round(mean * 10)]]*7)\n",
    "\n",
    "def objective_no_season(X):\n",
    "    start_inventory, s_DC1, S_DC1, s_DC2, S_DC2, s_r1, S_r2 = X\n",
    "    return -1 * state.run(start_inventory, s_DC1, S_DC1, s_DC2, S_DC2, s_r1, S_r2) #7 parameters\n",
    "\n",
    "model=ga(function=objective_no_season,\\\n",
    "        dimension=7,variable_type='int',\\\n",
    "        variable_boundaries=varbound, \\\n",
    "        algorithm_parameters=algorithm_param)"
   ]
  },
  {
   "cell_type": "code",
   "execution_count": 3,
   "metadata": {},
   "outputs": [
    {
     "name": "stdout",
     "output_type": "stream",
     "text": [
      "||||||||||________________________________________ 19.0% GA is running..."
     ]
    }
   ],
   "source": [
    "model.run() "
   ]
  },
  {
   "cell_type": "code",
   "execution_count": 2,
   "metadata": {},
   "outputs": [],
   "source": [
    "algorithm_param = {'max_num_iteration': 1000,\\\n",
    "                   'population_size':300,\\\n",
    "                   'mutation_probability':0.5,\\\n",
    "                   'elit_ratio': 0.01,\\\n",
    "                   'crossover_probability': 0.5,\\\n",
    "                   'parents_portion': 0.3,\\\n",
    "                   'crossover_type':'uniform',\\\n",
    "                   'max_iteration_without_improv':300}\n",
    "\n",
    "df = pd.read_csv(\"./TOTALSA.csv\")\n",
    "mean = df['TOTALSA'].mean()\n",
    "std = df['TOTALSA'].std()\n",
    "\n",
    "state = State()\n",
    "state.create_state([-1 ,0, 1, 1, 2, 2], mean=mean, std=std, cost=3)\n",
    "varbound=np.array([[round(mean * 2), round(mean * 10)]]*7)\n",
    "\n",
    "def objective_no_season(X):\n",
    "    start_inventory, s_DC1, S_DC1, s_DC2, S_DC2, s_r1, S_r2 = X\n",
    "    return -1 * state.run(start_inventory, s_DC1, S_DC1, s_DC2, S_DC2, s_r1, S_r2) #7 parameters\n",
    "\n",
    "model2=ga(function=objective_no_season,\\\n",
    "        dimension=7,variable_type='int',\\\n",
    "        variable_boundaries=varbound, \\\n",
    "        algorithm_parameters=algorithm_param)"
   ]
  },
  {
   "cell_type": "code",
   "execution_count": 4,
   "metadata": {},
   "outputs": [
    {
     "name": "stdout",
     "output_type": "stream",
     "text": [
      " The best solution found:                                                                           \n",
      " [ 88.  57.  63. 115. 127.  52.  54.]\n",
      "\n",
      " Objective function:\n",
      " -24326.077199999992\n"
     ]
    },
    {
     "data": {
      "image/png": "[encoded data removed]",
      "text/plain": [
       "<Figure size 640x480 with 1 Axes>"
      ]
     },
     "metadata": {},
     "output_type": "display_data"
    },
    {
     "name": "stdout",
     "output_type": "stream",
     "text": [
      "\n",
      "Warning: GA is terminated due to the maximum number of iterations without improvement was met!"
     ]
    }
   ],
   "source": [
    "model2.run()"
   ]
  }
 ],
 "metadata": {
  "kernelspec": {
   "display_name": "Python 3",
   "language": "python",
   "name": "python3"
  },
  "language_info": {
   "codemirror_mode": {
    "name": "ipython",
    "version": 3
   },
   "file_extension": ".py",
   "mimetype": "text/x-python",
   "name": "python",
   "nbconvert_exporter": "python",
   "pygments_lexer": "ipython3",
   "version": "3.11.3"
  },
  "orig_nbformat": 4
 },
 "nbformat": 4,
 "nbformat_minor": 2
}
