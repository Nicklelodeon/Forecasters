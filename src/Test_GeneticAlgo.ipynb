{
 "cells": [
  {
   "cell_type": "code",
   "execution_count": 1,
   "metadata": {},
   "outputs": [],
   "source": [
    "import numpy as np\n",
    "from geneticalgorithm import geneticalgorithm as ga\n",
    "from State import State\n",
    "from GenerateDemandMonthly import GenerateDemandMonthly\n",
    "from GenAlgo import Genetic_Algo_No_Season\n",
    "from GenAlgo import Genetic_Algo_Seasonal\n",
    "import pandas as pd"
   ]
  },
  {
   "cell_type": "code",
   "execution_count": 2,
   "metadata": {},
   "outputs": [],
   "source": [
    "algorithm_param = {'max_num_iteration': 1000,\\\n",
    "                   'population_size':250,\\\n",
    "                   'mutation_probability':0.5,\\\n",
    "                   'elit_ratio': 0.01,\\\n",
    "                   'crossover_probability': 0.5,\\\n",
    "                   'parents_portion': 0.3,\\\n",
    "                   'crossover_type':'uniform',\\\n",
    "                   'max_iteration_without_improv':300}\n",
    "\n",
    "df = pd.read_csv(\"./TOTALSA.csv\")\n",
    "mean = df['TOTALSA'].mean()\n",
    "std = df['TOTALSA'].std()\n",
    "varbound=np.array([[round(mean * 2), round(mean * 10)]]*7)\n",
    "\n",
    "def objective_no_season(X):\n",
    "    return -1 * Genetic_Algo_No_Season(X) #7 parameters\n",
    "\n",
    "model1=ga(function=objective_no_season,\\\n",
    "        dimension=7,variable_type='int',\\\n",
    "        variable_boundaries=varbound, \\\n",
    "        algorithm_parameters=algorithm_param)"
   ]
  },
  {
   "cell_type": "code",
   "execution_count": 3,
   "metadata": {},
   "outputs": [
    {
     "name": "stdout",
     "output_type": "stream",
     "text": [
      "||||||||||||||____________________________________ 28.2% GA is running..."
     ]
    }
   ],
   "source": [
    "model1.run() "
   ]
  }
 ],
 "metadata": {
  "kernelspec": {
   "display_name": "Python 3",
   "language": "python",
   "name": "python3"
  },
  "language_info": {
   "codemirror_mode": {
    "name": "ipython",
    "version": 3
   },
   "file_extension": ".py",
   "mimetype": "text/x-python",
   "name": "python",
   "nbconvert_exporter": "python",
   "pygments_lexer": "ipython3",
   "version": "3.11.3"
  },
  "orig_nbformat": 4
 },
 "nbformat": 4,
 "nbformat_minor": 2
}
