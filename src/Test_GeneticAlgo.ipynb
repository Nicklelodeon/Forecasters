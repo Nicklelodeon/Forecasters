{
 "cells": [
  {
   "cell_type": "code",
   "execution_count": null,
   "metadata": {},
   "outputs": [],
   "source": [
    "import numpy as np\n",
    "from geneticalgorithm import geneticalgorithm as ga\n",
    "from State import State\n",
    "from GenerateDemandMonthly import GenerateDemandMonthly\n",
    "from GeneticAlgoState import GeneticAlgoState"
   ]
  },
  {
   "cell_type": "code",
   "execution_count": null,
   "metadata": {},
   "outputs": [],
   "source": [
    "genstate = GeneticAlgoState()\n",
    "genstate.create_state([-1,0, 1, 1, 2, 2])\n",
    "\n",
    "#print(-1 * genstate.GArun([58,69,41,52,49,52]))\n",
    "\n",
    "def f(X):\n",
    "    return -1 * genstate.GArun(X)"
   ]
  },
  {
   "cell_type": "code",
   "execution_count": null,
   "metadata": {},
   "outputs": [],
   "source": [
    "def f(X):\n",
    "    return -1 * genstate.GArun2(X)\n",
    "\n",
    "varbound=np.array([[40,90]]*72)\n",
    "\n",
    "algorithm_param = {'max_num_iteration': 1000,\\\n",
    "                   'population_size':100,\\\n",
    "                   'mutation_probability':0.1,\\\n",
    "                   'elit_ratio': 0.01,\\\n",
    "                   'crossover_probability': 0.5,\\\n",
    "                   'parents_portion': 0.3,\\\n",
    "                   'crossover_type':'uniform',\\\n",
    "                   'max_iteration_without_improv':None}\n",
    "\n",
    "model=ga(function=f,dimension=72,variable_type='int',variable_boundaries=varbound, algorithm_parameters=algorithm_param)\n",
    "\n",
    "model.run()"
   ]
  },
  {
   "cell_type": "code",
   "execution_count": null,
   "metadata": {},
   "outputs": [],
   "source": [
    "model.run()"
   ]
  }
 ],
 "metadata": {
  "kernelspec": {
   "display_name": "Python 3",
   "language": "python",
   "name": "python3"
  },
  "language_info": {
   "codemirror_mode": {
    "name": "ipython",
    "version": 3
   },
   "file_extension": ".py",
   "mimetype": "text/x-python",
   "name": "python",
   "nbconvert_exporter": "python",
   "pygments_lexer": "ipython3",
   "version": "3.11.3"
  },
  "orig_nbformat": 4
 },
 "nbformat": 4,
 "nbformat_minor": 2
}
