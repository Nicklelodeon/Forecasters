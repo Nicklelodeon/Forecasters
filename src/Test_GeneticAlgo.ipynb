{
 "cells": [
  {
   "cell_type": "code",
   "execution_count": 1,
   "metadata": {},
   "outputs": [],
   "source": [
    "import numpy as np\n",
    "from geneticalgorithm import geneticalgorithm as ga\n",
    "from State import State\n",
    "from GenerateDemandMonthly import GenerateDemandMonthly\n",
    "from GenAlgo import Genetic_Algo_No_Season\n",
    "from GenAlgo import Genetic_Algo_Seasonal"
   ]
  },
  {
   "cell_type": "code",
   "execution_count": null,
   "metadata": {},
   "outputs": [],
   "source": [
    "algorithm_param = {'max_num_iteration': 1000,\\\n",
    "                   'population_size':250,\\\n",
    "                   'mutation_probability':0.1,\\\n",
    "                   'elit_ratio': 0.01,\\\n",
    "                   'crossover_probability': 0.5,\\\n",
    "                   'parents_portion': 0.3,\\\n",
    "                   'crossover_type':'uniform',\\\n",
    "                   'max_iteration_without_improv':300}\n",
    "\n",
    "varbound=np.array([[120, 180],[20,60], [120, 180], [20,60], [120, 180], [20,60], [120, 180]])\n",
    "\n",
    "def objective_no_season(X):\n",
    "    return -1 * Genetic_Algo_No_Season(X) #7 parameters\n",
    "\n",
    "model1=ga(function=objective_no_season,\\\n",
    "        dimension=7,variable_type='int',\\\n",
    "        variable_boundaries=varbound, \\\n",
    "        algorithm_parameters=algorithm_param)"
   ]
  },
  {
   "cell_type": "code",
   "execution_count": null,
   "metadata": {},
   "outputs": [],
   "source": [
    "model1.run()"
   ]
  },
  {
   "cell_type": "code",
   "execution_count": null,
   "metadata": {},
   "outputs": [],
   "source": [
    "algorithm_param = {'max_num_iteration': 1000,\\\n",
    "                   'population_size':250,\\\n",
    "                   'mutation_probability':0.1,\\\n",
    "                   'elit_ratio': 0.01,\\\n",
    "                   'crossover_probability': 0.5,\\\n",
    "                   'parents_portion': 0.3,\\\n",
    "                   'crossover_type':'uniform',\\\n",
    "                   'max_iteration_without_improv':300}\n",
    "\n",
    "varbound=np.array([[20, 60],[120, 180]]*36)\n",
    "\n",
    "def objective_season(X):\n",
    "    return -1 * Genetic_Algo_Seasonal(X) #72 parameters\n",
    "\n",
    "model2=ga(function=objective_season,\\\n",
    "        dimension=72,variable_type='int',\\\n",
    "        variable_boundaries=varbound, \\\n",
    "        algorithm_parameters=algorithm_param)"
   ]
  },
  {
   "cell_type": "code",
   "execution_count": null,
   "metadata": {},
   "outputs": [],
   "source": [
    "model2.run()"
   ]
  },
  {
   "cell_type": "code",
   "execution_count": 2,
   "metadata": {},
   "outputs": [],
   "source": [
    "genstate = GeneticAlgoState(30)\n",
    "genstate.create_state([-1,0, 1, 1, 2, 2])\n",
    "\n",
    "#print(-1 * genstate.GArun([58,69,41,52,49,52]))\n",
    "\n",
    "def f(X):\n",
    "    return -1 * genstate.GArun(X)"
   ]
  },
  {
   "cell_type": "code",
   "execution_count": null,
   "metadata": {},
   "outputs": [],
   "source": [
    "def f(X):\n",
    "    return -1 * genstate.GArun2(X)\n",
    "\n",
    "varbound=np.array([[20,80], [120, 200]]*36)\n",
    "\n",
    "algorithm_param = {'max_num_iteration': 1000,\\\n",
    "                   'population_size':100,\\\n",
    "                   'mutation_probability':0.1,\\\n",
    "                   'elit_ratio': 0.01,\\\n",
    "                   'crossover_probability': 0.5,\\\n",
    "                   'parents_portion': 0.3,\\\n",
    "                   'crossover_type':'uniform',\\\n",
    "                   'max_iteration_without_improv':None}\n",
    "\n",
    "model=ga(function=f,dimension=72,variable_type='int',variable_boundaries=varbound, algorithm_parameters=algorithm_param)\n",
    " "
   ]
  },
  {
   "cell_type": "code",
   "execution_count": null,
   "metadata": {},
   "outputs": [],
   "source": [
    "model.run()"
   ]
  },
  {
   "cell_type": "code",
   "execution_count": 3,
   "metadata": {},
   "outputs": [
    {
     "name": "stdout",
     "output_type": "stream",
     "text": [
      " The best solution found:                                                                           \n",
      " [178.  78.  70.  80. 185. 177. 174.]\n",
      "\n",
      " Objective function:\n",
      " -49131.302\n"
     ]
    },
    {
     "data": {
      "image/png": "[encoded data removed]",
      "text/plain": [
       "<Figure size 640x480 with 1 Axes>"
      ]
     },
     "metadata": {},
     "output_type": "display_data"
    }
   ],
   "source": [
    "def g(X):\n",
    "    return -1 * genstate.GArun_no_season(X) #7 parameters\n",
    "\n",
    "varbound=np.array([[120, 200],[20, 80], [20,80], [20,80], [120, 200], [120, 200], [120, 200]])\n",
    "\n",
    "algorithm_param = {'max_num_iteration': 350,\\\n",
    "                   'population_size':100,\\\n",
    "                   'mutation_probability':0.1,\\\n",
    "                   'elit_ratio': 0.01,\\\n",
    "                   'crossover_probability': 0.5,\\\n",
    "                   'parents_portion': 0.3,\\\n",
    "                   'crossover_type':'uniform',\\\n",
    "                   'max_iteration_without_improv':300}\n",
    " \n",
    "\n",
    "model2=ga(function=g,dimension=7,variable_type='int',variable_boundaries=varbound, algorithm_parameters=algorithm_param)\n",
    "\n",
    "model2.run()"
   ]
  }
 ],
 "metadata": {
  "kernelspec": {
   "display_name": "Python 3",
   "language": "python",
   "name": "python3"
  },
  "language_info": {
   "codemirror_mode": {
    "name": "ipython",
    "version": 3
   },
   "file_extension": ".py",
   "mimetype": "text/x-python",
   "name": "python",
   "nbconvert_exporter": "python",
   "pygments_lexer": "ipython3",
   "version": "3.11.3"
  },
  "orig_nbformat": 4
 },
 "nbformat": 4,
 "nbformat_minor": 2
}
