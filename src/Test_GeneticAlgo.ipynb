{
 "cells": [
  {
   "cell_type": "code",
   "execution_count": 1,
   "metadata": {},
   "outputs": [],
   "source": [
    "import numpy as np\n",
    "from geneticalgorithm import geneticalgorithm as ga\n",
    "from State import State\n",
    "from GenerateDemandMonthly import GenerateDemandMonthly\n",
    "from GeneticAlgoState import GeneticAlgoState"
   ]
  },
  {
   "cell_type": "code",
   "execution_count": 2,
   "metadata": {},
   "outputs": [
    {
     "name": "stdout",
     "output_type": "stream",
     "text": [
      "[17 10 21 28 12 18 35 27 30  6 36 35 19  7 14 30 17 16 37 22 29 12 31 33\n",
      " 20 13 18 20 14 19 28 32 36 19 35 29 15 14 18 43 15 13 30 19 31 12 29 30\n",
      " 18 16 18 22 10 15 27 29 32 15 33 38 11 15 16 29 19  6 41 24 31 18 26 33\n",
      " 18 17 11 41 16 11 33 30 33  1 37 31 16 13 18 35 16 20 30 28 24 13 34 30\n",
      " 14 17 11 27 16 17 33 32 33 20 26 27 20 10 18 21 13 18 29 29 34  8 30 32\n",
      " 14 13 12 32  8 17 27 28 34 18 31 31 18 22 17 25  7 22 20 37 34 14 34 25\n",
      " 20 13 18 35 15 24 33 34 27 15 37 26  7 14 12 32 17 12 28 25 25 16 33 31\n",
      " 19 19 15 27 11 10 31 29 42 15 22 38  7 10 16 30 20  9 23 27 28  9 31 27\n",
      "  9 12 19 28 14 18 32 24 28 13 31 27 19 12 13 30 22 18 33 27 36 23 38 36\n",
      " 18 12 17 34 14 22 32 35 31  7 28 30 19 16 15 32 14 12 23 31 33 26 32 34\n",
      " 14 17 18 24 10 19 36 32 25 16 40 21 10 15 15 23 12 17 27 26 38 16 32 35\n",
      " 16 19 16 40 13 17 30 26 28 12 31 35 15 17 16 28 13 14 17 38 30 14 23 40\n",
      " 14 15 16 35 12 19 30 37 30 14 21 28 17 18 14 44  8 15 38 33 31  8 32 27\n",
      " 16 19 15 28 19 15 26 24 35 19 34 31 12 14 22 31 18 13 31 32 30 15 29 31\n",
      " 20 15 16 32 16 17 33 29 24 15 25 32 17 11 13 38 14 13 23 30 34 23 37 31]\n"
     ]
    }
   ],
   "source": [
    "genstate = GeneticAlgoState()\n",
    "genstate.create_state([-1,0, 1, 1, 2, 2])\n",
    "\n",
    "#print(-1 * genstate.GArun([58,69,41,52,49,52]))\n",
    "\n",
    "def f(X):\n",
    "    return -1 * genstate.GArun(X)"
   ]
  },
  {
   "cell_type": "code",
   "execution_count": 3,
   "metadata": {},
   "outputs": [],
   "source": [
    "varbound=np.array([[40,90]]*6)\n",
    "\n",
    "\n",
    "\n",
    "algorithm_param = {'max_num_iteration': 1000,\\\n",
    "                   'population_size':100,\\\n",
    "                   'mutation_probability':0.1,\\\n",
    "                   'elit_ratio': 0.01,\\\n",
    "                   'crossover_probability': 0.5,\\\n",
    "                   'parents_portion': 0.3,\\\n",
    "                   'crossover_type':'uniform',\\\n",
    "                   'max_iteration_without_improv':None}\n",
    "\n",
    "model=ga(function=f,dimension=6,variable_type='int',variable_boundaries=varbound,\n",
    "         algorithm_parameters=algorithm_param)"
   ]
  },
  {
   "cell_type": "code",
   "execution_count": 4,
   "metadata": {},
   "outputs": [
    {
     "name": "stdout",
     "output_type": "stream",
     "text": [
      "__________________________________________________ 0.1% GA is running..."
     ]
    },
    {
     "name": "stderr",
     "output_type": "stream",
     "text": [
      "c:\\Users\\darry\\AppData\\Local\\Programs\\Python\\Python311\\Lib\\site-packages\\geneticalgorithm\\geneticalgorithm.py:353: RuntimeWarning: invalid value encountered in subtract\n",
      "  normobj=maxnorm-normobj+1\n"
     ]
    },
    {
     "name": "stdout",
     "output_type": "stream",
     "text": [
      "|_________________________________________________ 1.3% GA is running..."
     ]
    }
   ],
   "source": [
    "model.run()"
   ]
  }
 ],
 "metadata": {
  "kernelspec": {
   "display_name": "Python 3",
   "language": "python",
   "name": "python3"
  },
  "language_info": {
   "codemirror_mode": {
    "name": "ipython",
    "version": 3
   },
   "file_extension": ".py",
   "mimetype": "text/x-python",
   "name": "python",
   "nbconvert_exporter": "python",
   "pygments_lexer": "ipython3",
   "version": "3.11.3"
  },
  "orig_nbformat": 4
 },
 "nbformat": 4,
 "nbformat_minor": 2
}
