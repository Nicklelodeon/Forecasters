{
 "cells": [
  {
   "cell_type": "code",
   "execution_count": 4,
   "metadata": {},
   "outputs": [],
   "source": [
    "import numpy as np\n",
    "from geneticalgorithm import geneticalgorithm as ga\n",
    "from State import State\n",
    "from GenerateDemandMonthly import GenerateDemandMonthly\n",
    "from GeneticAlgoState import GeneticAlgoState"
   ]
  },
  {
   "cell_type": "code",
   "execution_count": 2,
   "metadata": {},
   "outputs": [],
   "source": [
    "genstate = GeneticAlgoState(50)\n",
    "genstate.create_state([-1,0, 1, 1, 2, 2])\n",
    "\n",
    "#print(-1 * genstate.GArun([58,69,41,52,49,52]))\n",
    "\n",
    "def f(X):\n",
    "    return -1 * genstate.GArun(X)"
   ]
  },
  {
   "cell_type": "code",
   "execution_count": null,
   "metadata": {},
   "outputs": [],
   "source": [
    "def f(X):\n",
    "    return -1 * genstate.GArun2(X)\n",
    "\n",
    "varbound=np.array([[40,90]]*72)\n",
    "\n",
    "algorithm_param = {'max_num_iteration': 1000,\\\n",
    "                   'population_size':100,\\\n",
    "                   'mutation_probability':0.1,\\\n",
    "                   'elit_ratio': 0.01,\\\n",
    "                   'crossover_probability': 0.5,\\\n",
    "                   'parents_portion': 0.3,\\\n",
    "                   'crossover_type':'uniform',\\\n",
    "                   'max_iteration_without_improv':None}\n",
    "\n",
    "model=ga(function=f,dimension=72,variable_type='int',variable_boundaries=varbound, algorithm_parameters=algorithm_param)\n",
    " "
   ]
  },
  {
   "cell_type": "code",
   "execution_count": null,
   "metadata": {},
   "outputs": [],
   "source": [
    "model.run()"
   ]
  },
  {
   "cell_type": "code",
   "execution_count": 3,
   "metadata": {},
   "outputs": [
    {
     "name": "stdout",
     "output_type": "stream",
     "text": [
      "|||||||||_________________________________________ 17.5% GA is running...given function is not applicable\n"
     ]
    },
    {
     "ename": "AssertionError",
     "evalue": "After 10.0 seconds delay func_timeout: the given function does not provide any output",
     "output_type": "error",
     "traceback": [
      "\u001b[1;31m---------------------------------------------------------------------------\u001b[0m",
      "\u001b[1;31mAssertionError\u001b[0m                            Traceback (most recent call last)",
      "Cell \u001b[1;32mIn[3], line 18\u001b[0m\n\u001b[0;32m      6\u001b[0m algorithm_param \u001b[39m=\u001b[39m {\u001b[39m'\u001b[39m\u001b[39mmax_num_iteration\u001b[39m\u001b[39m'\u001b[39m: \u001b[39m1000\u001b[39m,\\\n\u001b[0;32m      7\u001b[0m                    \u001b[39m'\u001b[39m\u001b[39mpopulation_size\u001b[39m\u001b[39m'\u001b[39m:\u001b[39m250\u001b[39m,\\\n\u001b[0;32m      8\u001b[0m                    \u001b[39m'\u001b[39m\u001b[39mmutation_probability\u001b[39m\u001b[39m'\u001b[39m:\u001b[39m0.1\u001b[39m,\\\n\u001b[1;32m   (...)\u001b[0m\n\u001b[0;32m     12\u001b[0m                    \u001b[39m'\u001b[39m\u001b[39mcrossover_type\u001b[39m\u001b[39m'\u001b[39m:\u001b[39m'\u001b[39m\u001b[39muniform\u001b[39m\u001b[39m'\u001b[39m,\\\n\u001b[0;32m     13\u001b[0m                    \u001b[39m'\u001b[39m\u001b[39mmax_iteration_without_improv\u001b[39m\u001b[39m'\u001b[39m:\u001b[39m300\u001b[39m}\n\u001b[0;32m     16\u001b[0m model2\u001b[39m=\u001b[39mga(function\u001b[39m=\u001b[39mg,dimension\u001b[39m=\u001b[39m\u001b[39m7\u001b[39m,variable_type\u001b[39m=\u001b[39m\u001b[39m'\u001b[39m\u001b[39mint\u001b[39m\u001b[39m'\u001b[39m,variable_boundaries\u001b[39m=\u001b[39mvarbound, algorithm_parameters\u001b[39m=\u001b[39malgorithm_param)\n\u001b[1;32m---> 18\u001b[0m model2\u001b[39m.\u001b[39;49mrun()\n",
      "File \u001b[1;32mc:\\Users\\User\\AppData\\Local\\Programs\\Python\\Python311\\Lib\\site-packages\\geneticalgorithm\\geneticalgorithm.py:403\u001b[0m, in \u001b[0;36mgeneticalgorithm.run\u001b[1;34m(self)\u001b[0m\n\u001b[0;32m    401\u001b[0m ch2\u001b[39m=\u001b[39m\u001b[39mself\u001b[39m\u001b[39m.\u001b[39mmutmidle(ch2,pvar1,pvar2)               \n\u001b[0;32m    402\u001b[0m solo[: \u001b[39mself\u001b[39m\u001b[39m.\u001b[39mdim]\u001b[39m=\u001b[39mch1\u001b[39m.\u001b[39mcopy()                \n\u001b[1;32m--> 403\u001b[0m obj\u001b[39m=\u001b[39m\u001b[39mself\u001b[39;49m\u001b[39m.\u001b[39;49msim(ch1)\n\u001b[0;32m    404\u001b[0m solo[\u001b[39mself\u001b[39m\u001b[39m.\u001b[39mdim]\u001b[39m=\u001b[39mobj\n\u001b[0;32m    405\u001b[0m pop[k]\u001b[39m=\u001b[39msolo\u001b[39m.\u001b[39mcopy()                \n",
      "File \u001b[1;32mc:\\Users\\User\\AppData\\Local\\Programs\\Python\\Python311\\Lib\\site-packages\\geneticalgorithm\\geneticalgorithm.py:545\u001b[0m, in \u001b[0;36mgeneticalgorithm.sim\u001b[1;34m(self, X)\u001b[0m\n\u001b[0;32m    543\u001b[0m \u001b[39mexcept\u001b[39;00m FunctionTimedOut:\n\u001b[0;32m    544\u001b[0m     \u001b[39mprint\u001b[39m(\u001b[39m\"\u001b[39m\u001b[39mgiven function is not applicable\u001b[39m\u001b[39m\"\u001b[39m)\n\u001b[1;32m--> 545\u001b[0m \u001b[39massert\u001b[39;00m (obj\u001b[39m!=\u001b[39m\u001b[39mNone\u001b[39;00m), \u001b[39m\"\u001b[39m\u001b[39mAfter \u001b[39m\u001b[39m\"\u001b[39m\u001b[39m+\u001b[39m\u001b[39mstr\u001b[39m(\u001b[39mself\u001b[39m\u001b[39m.\u001b[39mfuntimeout)\u001b[39m+\u001b[39m\u001b[39m\"\u001b[39m\u001b[39m seconds delay \u001b[39m\u001b[39m\"\u001b[39m\u001b[39m+\u001b[39m\\\n\u001b[0;32m    546\u001b[0m         \u001b[39m\"\u001b[39m\u001b[39mfunc_timeout: the given function does not provide any output\u001b[39m\u001b[39m\"\u001b[39m\n\u001b[0;32m    547\u001b[0m \u001b[39mreturn\u001b[39;00m obj\n",
      "\u001b[1;31mAssertionError\u001b[0m: After 10.0 seconds delay func_timeout: the given function does not provide any output"
     ]
    }
   ],
   "source": [
    "def g(X):\n",
    "    return -1 * genstate.GArun_no_season(X) #7 parameters\n",
    "\n",
    "varbound=np.array([[120, 200],[20, 80], [20,80], [20,80], [120, 200], [120, 200], [120, 200]])\n",
    "\n",
    "algorithm_param = {'max_num_iteration': 1000,\\\n",
    "                   'population_size':250,\\\n",
    "                   'mutation_probability':0.1,\\\n",
    "                   'elit_ratio': 0.01,\\\n",
    "                   'crossover_probability': 0.5,\\\n",
    "                   'parents_portion': 0.3,\\\n",
    "                   'crossover_type':'uniform',\\\n",
    "                   'max_iteration_without_improv':300}\n",
    "\n",
    "\n",
    "model2=ga(function=g,dimension=7,variable_type='int',variable_boundaries=varbound, algorithm_parameters=algorithm_param)\n",
    "\n",
    "model2.run()"
   ]
  }
 ],
 "metadata": {
  "kernelspec": {
   "display_name": "Python 3",
   "language": "python",
   "name": "python3"
  },
  "language_info": {
   "codemirror_mode": {
    "name": "ipython",
    "version": 3
   },
   "file_extension": ".py",
   "mimetype": "text/x-python",
   "name": "python",
   "nbconvert_exporter": "python",
   "pygments_lexer": "ipython3",
   "version": "3.11.3"
  },
  "orig_nbformat": 4
 },
 "nbformat": 4,
 "nbformat_minor": 2
}
