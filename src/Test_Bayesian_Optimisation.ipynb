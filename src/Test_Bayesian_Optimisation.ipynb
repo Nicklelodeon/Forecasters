{
 "cells": [
  {
   "cell_type": "code",
   "execution_count": 3,
   "metadata": {},
   "outputs": [
    {
     "name": "stdout",
     "output_type": "stream",
     "text": [
      "|   iter    |  target   |   S_DC1   |   S_DC2   |   S_r1    |   s_DC1   |   s_DC2   |   s_r1    |\n",
      "-------------------------------------------------------------------------------------------------\n",
      "| \u001b[0m1        \u001b[0m | \u001b[0m-1e+08   \u001b[0m | \u001b[0m83.91    \u001b[0m | \u001b[0m97.22    \u001b[0m | \u001b[0m88.22    \u001b[0m | \u001b[0m83.59    \u001b[0m | \u001b[0m73.89    \u001b[0m | \u001b[0m91.67    \u001b[0m |\n"
     ]
    },
    {
     "ename": "TypeError",
     "evalue": "State.total_sum() missing 1 required positional argument: 'X'",
     "output_type": "error",
     "traceback": [
      "\u001b[1;31m---------------------------------------------------------------------------\u001b[0m",
      "\u001b[1;31mTypeError\u001b[0m                                 Traceback (most recent call last)",
      "Cell \u001b[1;32mIn[3], line 13\u001b[0m\n\u001b[0;32m      7\u001b[0m pbounds \u001b[39m=\u001b[39m {\u001b[39m'\u001b[39m\u001b[39ms_DC1\u001b[39m\u001b[39m'\u001b[39m: (\u001b[39m40\u001b[39m, \u001b[39m120\u001b[39m), \u001b[39m'\u001b[39m\u001b[39mS_DC1\u001b[39m\u001b[39m'\u001b[39m: (\u001b[39m40\u001b[39m, \u001b[39m120\u001b[39m), \u001b[39m'\u001b[39m\u001b[39ms_DC2\u001b[39m\u001b[39m'\u001b[39m: (\u001b[39m40\u001b[39m, \u001b[39m120\u001b[39m), \u001b[39m'\u001b[39m\u001b[39mS_DC2\u001b[39m\u001b[39m'\u001b[39m: (\u001b[39m40\u001b[39m, \u001b[39m120\u001b[39m), \u001b[39m'\u001b[39m\u001b[39ms_r1\u001b[39m\u001b[39m'\u001b[39m: (\u001b[39m40\u001b[39m, \u001b[39m120\u001b[39m), \u001b[39m'\u001b[39m\u001b[39mS_r1\u001b[39m\u001b[39m'\u001b[39m: (\u001b[39m40\u001b[39m, \u001b[39m120\u001b[39m)}\n\u001b[0;32m      8\u001b[0m optimizer \u001b[39m=\u001b[39m BayesianOptimization(\n\u001b[0;32m      9\u001b[0m     f\u001b[39m=\u001b[39mBayesianOptimisation,\n\u001b[0;32m     10\u001b[0m     pbounds\u001b[39m=\u001b[39mpbounds,\n\u001b[0;32m     11\u001b[0m     random_state\u001b[39m=\u001b[39m\u001b[39m0\u001b[39m,\n\u001b[0;32m     12\u001b[0m )\n\u001b[1;32m---> 13\u001b[0m optimizer\u001b[39m.\u001b[39;49mmaximize(\n\u001b[0;32m     14\u001b[0m     init_points \u001b[39m=\u001b[39;49m \u001b[39m100\u001b[39;49m,\n\u001b[0;32m     15\u001b[0m     n_iter\u001b[39m=\u001b[39;49m\u001b[39m1000\u001b[39;49m\n\u001b[0;32m     16\u001b[0m )\n\u001b[0;32m     17\u001b[0m \u001b[39mprint\u001b[39m(optimizer\u001b[39m.\u001b[39mmax)\n",
      "File \u001b[1;32mc:\\Users\\User\\AppData\\Local\\Programs\\Python\\Python311\\Lib\\site-packages\\bayes_opt\\bayesian_optimization.py:310\u001b[0m, in \u001b[0;36mBayesianOptimization.maximize\u001b[1;34m(self, init_points, n_iter, acquisition_function, acq, kappa, kappa_decay, kappa_decay_delay, xi, **gp_params)\u001b[0m\n\u001b[0;32m    308\u001b[0m     x_probe \u001b[39m=\u001b[39m \u001b[39mself\u001b[39m\u001b[39m.\u001b[39msuggest(util)\n\u001b[0;32m    309\u001b[0m     iteration \u001b[39m+\u001b[39m\u001b[39m=\u001b[39m \u001b[39m1\u001b[39m\n\u001b[1;32m--> 310\u001b[0m \u001b[39mself\u001b[39;49m\u001b[39m.\u001b[39;49mprobe(x_probe, lazy\u001b[39m=\u001b[39;49m\u001b[39mFalse\u001b[39;49;00m)\n\u001b[0;32m    312\u001b[0m \u001b[39mif\u001b[39;00m \u001b[39mself\u001b[39m\u001b[39m.\u001b[39m_bounds_transformer \u001b[39mand\u001b[39;00m iteration \u001b[39m>\u001b[39m \u001b[39m0\u001b[39m:\n\u001b[0;32m    313\u001b[0m     \u001b[39m# The bounds transformer should only modify the bounds after\u001b[39;00m\n\u001b[0;32m    314\u001b[0m     \u001b[39m# the init_points points (only for the true iterations)\u001b[39;00m\n\u001b[0;32m    315\u001b[0m     \u001b[39mself\u001b[39m\u001b[39m.\u001b[39mset_bounds(\n\u001b[0;32m    316\u001b[0m         \u001b[39mself\u001b[39m\u001b[39m.\u001b[39m_bounds_transformer\u001b[39m.\u001b[39mtransform(\u001b[39mself\u001b[39m\u001b[39m.\u001b[39m_space))\n",
      "File \u001b[1;32mc:\\Users\\User\\AppData\\Local\\Programs\\Python\\Python311\\Lib\\site-packages\\bayes_opt\\bayesian_optimization.py:208\u001b[0m, in \u001b[0;36mBayesianOptimization.probe\u001b[1;34m(self, params, lazy)\u001b[0m\n\u001b[0;32m    206\u001b[0m     \u001b[39mself\u001b[39m\u001b[39m.\u001b[39m_queue\u001b[39m.\u001b[39madd(params)\n\u001b[0;32m    207\u001b[0m \u001b[39melse\u001b[39;00m:\n\u001b[1;32m--> 208\u001b[0m     \u001b[39mself\u001b[39;49m\u001b[39m.\u001b[39;49m_space\u001b[39m.\u001b[39;49mprobe(params)\n\u001b[0;32m    209\u001b[0m     \u001b[39mself\u001b[39m\u001b[39m.\u001b[39mdispatch(Events\u001b[39m.\u001b[39mOPTIMIZATION_STEP)\n",
      "File \u001b[1;32mc:\\Users\\User\\AppData\\Local\\Programs\\Python\\Python311\\Lib\\site-packages\\bayes_opt\\target_space.py:236\u001b[0m, in \u001b[0;36mTargetSpace.probe\u001b[1;34m(self, params)\u001b[0m\n\u001b[0;32m    234\u001b[0m x \u001b[39m=\u001b[39m \u001b[39mself\u001b[39m\u001b[39m.\u001b[39m_as_array(params)\n\u001b[0;32m    235\u001b[0m params \u001b[39m=\u001b[39m \u001b[39mdict\u001b[39m(\u001b[39mzip\u001b[39m(\u001b[39mself\u001b[39m\u001b[39m.\u001b[39m_keys, x))\n\u001b[1;32m--> 236\u001b[0m target \u001b[39m=\u001b[39m \u001b[39mself\u001b[39;49m\u001b[39m.\u001b[39;49mtarget_func(\u001b[39m*\u001b[39;49m\u001b[39m*\u001b[39;49mparams)\n\u001b[0;32m    238\u001b[0m \u001b[39mif\u001b[39;00m \u001b[39mself\u001b[39m\u001b[39m.\u001b[39m_constraint \u001b[39mis\u001b[39;00m \u001b[39mNone\u001b[39;00m:\n\u001b[0;32m    239\u001b[0m     \u001b[39mself\u001b[39m\u001b[39m.\u001b[39mregister(x, target)\n",
      "File \u001b[1;32mc:\\Users\\User\\Desktop\\Nus_Stuff\\Forecasters\\src\\BayesianOptimisation.py:17\u001b[0m, in \u001b[0;36mBayesianOptimisation\u001b[1;34m(s_DC1, S_DC1, s_DC2, S_DC2, s_r1, S_r1)\u001b[0m\n\u001b[0;32m     15\u001b[0m \u001b[39mfor\u001b[39;00m i \u001b[39min\u001b[39;00m \u001b[39mrange\u001b[39m(\u001b[39mlen\u001b[39m(state\u001b[39m.\u001b[39mdemand_list)):\n\u001b[0;32m     16\u001b[0m     state\u001b[39m.\u001b[39mupdate_state(i)\n\u001b[1;32m---> 17\u001b[0m \u001b[39mreturn\u001b[39;00m state\u001b[39m.\u001b[39;49mtotal_sum()\n",
      "\u001b[1;31mTypeError\u001b[0m: State.total_sum() missing 1 required positional argument: 'X'"
     ]
    }
   ],
   "source": [
    "#https://github.com/bayesian-optimization/BayesianOptimization\n",
    "#pip uninstall scikit-learn\n",
    "#pip install scikit-learn==1.1.0\n",
    "from BayesianOptimisation import BayesianOptimisation\n",
    "from bayes_opt import BayesianOptimization\n",
    "\n",
    "pbounds = {'s_DC1': (40, 120), 'S_DC1': (40, 120), 's_DC2': (40, 120), 'S_DC2': (40, 120), 's_r1': (40, 120), 'S_r1': (40, 120)}\n",
    "optimizer = BayesianOptimization(\n",
    "    f=BayesianOptimisation,\n",
    "    pbounds=pbounds,\n",
    "    random_state=0,\n",
    ")\n",
    "optimizer.maximize(\n",
    "    init_points = 100,\n",
    "    n_iter=1000\n",
    ")\n",
    "print(optimizer.max)"
   ]
  },
  {
   "cell_type": "code",
   "execution_count": null,
   "metadata": {},
   "outputs": [],
   "source": []
  }
 ],
 "metadata": {
  "kernelspec": {
   "display_name": "base",
   "language": "python",
   "name": "python3"
  },
  "language_info": {
   "codemirror_mode": {
    "name": "ipython",
    "version": 3
   },
   "file_extension": ".py",
   "mimetype": "text/x-python",
   "name": "python",
   "nbconvert_exporter": "python",
   "pygments_lexer": "ipython3",
   "version": "3.11.3"
  },
  "orig_nbformat": 4
 },
 "nbformat": 4,
 "nbformat_minor": 2
}
